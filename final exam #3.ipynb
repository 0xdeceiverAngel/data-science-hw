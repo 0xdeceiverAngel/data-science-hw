{
  "nbformat": 4,
  "nbformat_minor": 0,
  "metadata": {
    "colab": {
      "name": "4107053145 #3.ipynb",
      "provenance": []
    },
    "kernelspec": {
      "name": "python3",
      "display_name": "Python 3"
    }
  },
  "cells": [
    {
      "cell_type": "markdown",
      "metadata": {
        "id": "_fkkfEuhqVpl"
      },
      "source": [
        "# Build a binary classification model to predict who is going to leave their credit card services.\r\n"
      ]
    },
    {
      "cell_type": "code",
      "metadata": {
        "colab": {
          "base_uri": "https://localhost:8080/"
        },
        "id": "SIMtGeQIaKc-",
        "outputId": "d4db62c7-c499-486d-c60e-b0b5f8fcf5b4"
      },
      "source": [
        "# !pip install sklearn\r\n",
        "from IPython.display import clear_output\r\n",
        "import pandas as pd\r\n",
        "import tensorflow as tf\r\n",
        "print(tf.__version__)\r\n",
        "from tensorflow.keras import regularizers\r\n",
        "from tensorflow import keras\r\n",
        "from tensorflow.keras import layers\r\n",
        "from tensorflow.keras.losses import SparseCategoricalCrossentropy\r\n",
        "from tensorflow.keras.losses import *\r\n",
        "from tensorflow.keras.metrics import *\r\n",
        "import matplotlib.pyplot as plt\r\n",
        "import numpy as np\r\n",
        "from sklearn.datasets import load_diabetes\r\n",
        "from sklearn.model_selection import RepeatedStratifiedKFold\r\n",
        "from sklearn.linear_model import LogisticRegression\r\n",
        "from sklearn.model_selection import cross_val_score\r\n",
        "from sklearn.model_selection import KFold\r\n",
        "# from sklearn.model_selection import cross_validate\r\n",
        "from sklearn.metrics import *\r\n",
        "from sklearn.preprocessing import LabelEncoder\r\n",
        "import seaborn as sn"
      ],
      "execution_count": 16,
      "outputs": [
        {
          "output_type": "stream",
          "text": [
            "2.4.0\n"
          ],
          "name": "stdout"
        }
      ]
    },
    {
      "cell_type": "code",
      "metadata": {
        "colab": {
          "base_uri": "https://localhost:8080/",
          "height": 35
        },
        "id": "NFckn5V1au1h",
        "outputId": "7de05291-a78f-44e8-8932-4b762bc2f5c1"
      },
      "source": [
        "bank_data=pd.read_csv(\"BankChurners.csv\")\r\n",
        "\r\n",
        "bank_data=bank_data.drop(columns=['CLIENTNUM','Naive_Bayes_Classifier_Attrition_Flag_Card_Category_Contacts_Count_12_mon_Dependent_count_Education_Level_Months_Inactive_12_mon_1','Naive_Bayes_Classifier_Attrition_Flag_Card_Category_Contacts_Count_12_mon_Dependent_count_Education_Level_Months_Inactive_12_mon_2'])\r\n",
        "\r\n",
        "labelencoder = LabelEncoder()\r\n",
        "bank_data['Attrition_Flag'] = labelencoder.fit_transform(bank_data['Attrition_Flag'])\r\n",
        "\r\n",
        "\r\n",
        "bank_data['Education_Level'] = labelencoder.fit_transform(bank_data['Education_Level'])\r\n",
        "bank_data['Marital_Status'] = labelencoder.fit_transform(bank_data['Marital_Status'])\r\n",
        "bank_data['Gender'] = labelencoder.fit_transform(bank_data['Gender'])\r\n",
        "bank_data['Income_Category'] = labelencoder.fit_transform(bank_data['Income_Category'])\r\n",
        "bank_data['Card_Category'] = labelencoder.fit_transform(bank_data['Card_Category'])\r\n",
        "bank_data\r\n",
        "\r\n",
        "\r\n",
        "data_y=bank_data['Attrition_Flag'].to_numpy()\r\n",
        "bank_data=bank_data.drop(columns=['Attrition_Flag'])\r\n",
        "data_x=bank_data.to_numpy()\r\n",
        "\r\n",
        "'''\r\n",
        "Existing Customer=1\r\n",
        "Attrited Customer=0\r\n",
        "\r\n",
        "\r\n",
        "'''\r\n"
      ],
      "execution_count": 17,
      "outputs": [
        {
          "output_type": "execute_result",
          "data": {
            "application/vnd.google.colaboratory.intrinsic+json": {
              "type": "string"
            },
            "text/plain": [
              "'\\nExisting Customer=1\\nAttrited Customer=0\\n\\n\\n'"
            ]
          },
          "metadata": {
            "tags": []
          },
          "execution_count": 17
        }
      ]
    },
    {
      "cell_type": "code",
      "metadata": {
        "colab": {
          "base_uri": "https://localhost:8080/"
        },
        "id": "ktKtcMATdVli",
        "outputId": "dea6413f-e6e9-4d53-fadb-668abc8aea19"
      },
      "source": [
        "x_1 = keras.Input(shape=(19,))\r\n",
        "h1_1 = layers.Dense(10, activation='relu')(x_1)\r\n",
        "h2_1 = layers.Dense(5, activation='relu')(h1_1)\r\n",
        "h3_1 = layers.Dense(3, activation='relu')(h2_1)\r\n",
        "outputs = layers.Dense(2,activation='softmax')(h3_1)\r\n",
        "nn_model = keras.Model(inputs=x_1, outputs=outputs,name='nn_network')\r\n",
        "nn_model.summary()\r\n",
        "nn_model.compile(optimizer='adam',loss=tf.losses.SparseCategoricalCrossentropy(),metrics=['accuracy'])"
      ],
      "execution_count": 18,
      "outputs": [
        {
          "output_type": "stream",
          "text": [
            "Model: \"nn_network\"\n",
            "_________________________________________________________________\n",
            "Layer (type)                 Output Shape              Param #   \n",
            "=================================================================\n",
            "input_3 (InputLayer)         [(None, 19)]              0         \n",
            "_________________________________________________________________\n",
            "dense_8 (Dense)              (None, 10)                200       \n",
            "_________________________________________________________________\n",
            "dense_9 (Dense)              (None, 5)                 55        \n",
            "_________________________________________________________________\n",
            "dense_10 (Dense)             (None, 3)                 18        \n",
            "_________________________________________________________________\n",
            "dense_11 (Dense)             (None, 2)                 8         \n",
            "=================================================================\n",
            "Total params: 281\n",
            "Trainable params: 281\n",
            "Non-trainable params: 0\n",
            "_________________________________________________________________\n"
          ],
          "name": "stdout"
        }
      ]
    },
    {
      "cell_type": "code",
      "metadata": {
        "id": "5xlHE7YueE85"
      },
      "source": [
        "kf=KFold(n_splits=10,shuffle=True)\r\n",
        "res=[]\r\n",
        "nn_acc_score=0\r\n",
        "nn_recall_macro_score=0\r\n",
        "nn_recall_mirco_score=0\r\n",
        "nn_precision_macro_score=0\r\n",
        "nn_precision_micro_score=0\r\n",
        "nn_f1_macro_score=0\r\n",
        "nn_f1_micro_score=0\r\n",
        "nn_auc_macro_score=0\r\n",
        "nn_auc_micro_score=0\r\n",
        "\r\n",
        "nn_confusion_matrix_sum=np.empty((2,2))\r\n",
        "nn_confusion_matrix_sum[:]=0\r\n",
        "for train_index,test_index in kf.split(data_x):\r\n",
        "    x_train,x_test=data_x[train_index],data_x[test_index]\r\n",
        "    y_train,y_test=data_y[train_index],data_y[test_index]\r\n",
        "    train=nn_model.fit(data_x,data_y,\r\n",
        "              batch_size=500, epochs=100, verbose=0,\r\n",
        "              validation_data=(x_test,y_test),\r\n",
        "            #   validation_split=0.1\r\n",
        "              )\r\n",
        "    res.append(train)\r\n",
        "    y_pred=np.argmax(nn_model.predict(x_test),axis=1)\r\n",
        "    nn_acc_score=nn_acc_score+accuracy_score(y_test,y_pred)\r\n",
        "    nn_recall_macro_score=nn_recall_macro_score+recall_score(y_test, y_pred, average='macro')\r\n",
        "    nn_recall_mirco_score=nn_recall_mirco_score+recall_score(y_test, y_pred, average='micro')\r\n",
        "    nn_precision_macro_score=nn_precision_macro_score+precision_score(y_test, y_pred, average='macro')\r\n",
        "    nn_precision_micro_score=nn_precision_micro_score+precision_score(y_test, y_pred, average='micro')\r\n",
        "    nn_f1_macro_score=nn_f1_macro_score+f1_score(y_test, y_pred, average='macro')\r\n",
        "    nn_f1_micro_score=nn_f1_micro_score+f1_score(y_test, y_pred, average='micro')\r\n",
        "    nn_auc_macro_score=nn_auc_macro_score+roc_auc_score(y_test, y_pred, average='macro')\r\n",
        "    nn_auc_micro_score=nn_auc_micro_score+roc_auc_score(y_test, y_pred, average='micro')\r\n",
        "    nn_confusion_matrix_sum=nn_confusion_matrix_sum+confusion_matrix(y_test, y_pred)"
      ],
      "execution_count": 19,
      "outputs": []
    },
    {
      "cell_type": "markdown",
      "metadata": {
        "id": "6j8IGoiHqgVV"
      },
      "source": [
        "# Compute the accuracy, precision, recall, F1-score (the harmonic mean of precision and recall), and AUC by stratified 10-fold cross-validation of your model obtained in (a)."
      ]
    },
    {
      "cell_type": "code",
      "metadata": {
        "colab": {
          "base_uri": "https://localhost:8080/",
          "height": 519
        },
        "id": "-C55CS0Bkd1q",
        "outputId": "3b92e1e0-e123-4fb1-8c89-230c2424d35b"
      },
      "source": [
        "n=10\r\n",
        "print(\"平均\")\r\n",
        "print(\"accuracy_score\",nn_acc_score/n)\r\n",
        "print(\"recall_macro_score_avg:\",nn_recall_macro_score/n)\r\n",
        "print(\"recall_mirco_score_avg:\",nn_recall_mirco_score/n)\r\n",
        "print(\"precision_macro_score_avg:\",nn_precision_macro_score/n)\r\n",
        "print(\"precision_micro_score_avg:\",nn_precision_micro_score/n)\r\n",
        "print(\"f1_macro_score\",nn_f1_macro_score/n)\r\n",
        "print(\"f1_micro_score\",nn_f1_micro_score/n)\r\n",
        "print(\"auc_macro_score\",nn_auc_macro_score/n)\r\n",
        "print(\"auc_micro_score\",nn_auc_micro_score/n)\r\n",
        "print(\"confusion_matrix_avg:\\n\",nn_confusion_matrix_sum/n)\r\n",
        "plt.title('confusion_matrix_avg')\r\n",
        "plt.ylabel('actual')\r\n",
        "plt.xlabel('predict')\r\n",
        "\r\n",
        "sn.heatmap(nn_confusion_matrix_sum/n,annot=True)"
      ],
      "execution_count": 20,
      "outputs": [
        {
          "output_type": "stream",
          "text": [
            "平均\n",
            "accuracy_score 0.8829959537865456\n",
            "recall_macro_score_avg: 0.7544607963561869\n",
            "recall_mirco_score_avg: 0.8829959537865456\n",
            "precision_macro_score_avg: 0.819404285156075\n",
            "precision_micro_score_avg: 0.8829959537865456\n",
            "f1_macro_score 0.7642283395109857\n",
            "f1_micro_score 0.8829959537865456\n",
            "auc_macro_score 0.7544607963561869\n",
            "auc_micro_score 0.7544607963561869\n",
            "confusion_matrix_avg:\n",
            " [[ 92.1  70.6]\n",
            " [ 47.9 802.1]]\n"
          ],
          "name": "stdout"
        },
        {
          "output_type": "execute_result",
          "data": {
            "text/plain": [
              "<matplotlib.axes._subplots.AxesSubplot at 0x7f9781f52550>"
            ]
          },
          "metadata": {
            "tags": []
          },
          "execution_count": 20
        },
        {
          "output_type": "display_data",
          "data": {
            "image/png": "[encoded data removed]",
            "text/plain": [
              "<Figure size 432x288 with 2 Axes>"
            ]
          },
          "metadata": {
            "tags": [],
            "needs_background": "light"
          }
        }
      ]
    },
    {
      "cell_type": "code",
      "metadata": {
        "colab": {
          "base_uri": "https://localhost:8080/",
          "height": 290
        },
        "id": "wSVVUESyk5mu",
        "outputId": "afed9ff7-4810-47f5-eb48-44c55e75ec36"
      },
      "source": [
        "loss_pic=np.array([])\r\n",
        "acc_pic=np.array([])\r\n",
        "val_pic=np.array([])\r\n",
        "plt.title(\"Loss compare\",fontsize=25,)\r\n",
        "for i in res:\r\n",
        "    loss_pic=np.append(loss_pic,np.array(i.history['loss']))\r\n",
        "plt.plot(loss_pic)\r\n",
        "for i in res:\r\n",
        "    val_pic=np.append(val_pic,np.array(i.history['val_loss']))\r\n",
        "ep=range(1,len(loss_pic)+1)\r\n",
        "plt.plot(ep,loss_pic,\"red\",label=\"training loss\")\r\n",
        "plt.plot(ep,val_pic,\"orange\",label=\"val loss\")\r\n",
        "plt.legend()\r\n",
        "plt.show()"
      ],
      "execution_count": 21,
      "outputs": [
        {
          "output_type": "display_data",
          "data": {
            "image/png": "[encoded data removed]",
            "text/plain": [
              "<Figure size 432x288 with 1 Axes>"
            ]
          },
          "metadata": {
            "tags": [],
            "needs_background": "light"
          }
        }
      ]
    },
    {
      "cell_type": "code",
      "metadata": {
        "colab": {
          "base_uri": "https://localhost:8080/",
          "height": 307
        },
        "id": "WMoWTFXxlQkO",
        "outputId": "23aa85d7-b1d0-42ea-8d43-271ea71f64ec"
      },
      "source": [
        "plt.title(\"accuracy\",fontsize=25,)\r\n",
        "for i in res:\r\n",
        "    acc_pic=np.append(acc_pic,np.array(i.history['accuracy']))\r\n",
        "plt.plot(acc_pic)"
      ],
      "execution_count": 22,
      "outputs": [
        {
          "output_type": "execute_result",
          "data": {
            "text/plain": [
              "[<matplotlib.lines.Line2D at 0x7f97868f7828>]"
            ]
          },
          "metadata": {
            "tags": []
          },
          "execution_count": 22
        },
        {
          "output_type": "display_data",
          "data": {
            "image/png": "[encoded data removed]",
            "text/plain": [
              "<Figure size 432x288 with 1 Axes>"
            ]
          },
          "metadata": {
            "tags": [],
            "needs_background": "light"
          }
        }
      ]
    },
    {
      "cell_type": "markdown",
      "metadata": {
        "id": "lFzbJD0ypHz-"
      },
      "source": [
        "# Among the above metrics, which one would you use to evaluate your model according to the purpose of this dataset? Explain your reason.\r\n",
        "\r\n",
        "銀行想要預測用戶會不會剪卡 \r\n",
        "\r\n",
        "在預測是會的情況下 去挽回客戶 用precision\r\n",
        "\r\n",
        "並且 同時希望模型可以更準確 確認實際剪卡的客戶是否有被我們成功預測到 用recall\r\n",
        "\r\n",
        "但是我覺得 Precision和Recall都同等重要 那我就用F1\r\n",
        "\r\n",
        "因為dataset的data unbalanced\r\n",
        "\r\n",
        "所以用 precision macro,recall marco,f1marco\r\n",
        "\r\n",
        "然後auc為趨近於1越好\r\n",
        "\r\n"
      ]
    }
  ]
}