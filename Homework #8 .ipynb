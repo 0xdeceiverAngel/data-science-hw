{
  "nbformat": 4,
  "nbformat_minor": 0,
  "metadata": {
    "colab": {
      "name": "hw8.ipynb",
      "provenance": [],
      "collapsed_sections": []
    },
    "kernelspec": {
      "display_name": "Python 3",
      "name": "python3"
    }
  },
  "cells": [
    {
      "cell_type": "code",
      "metadata": {
        "id": "xdAG2Eq6wJNQ",
        "colab": {
          "base_uri": "https://localhost:8080/"
        },
        "outputId": "dffee0ba-8378-43b4-c760-b3a9f5dd44e3"
      },
      "source": [
        "# !pip install sklearn\r\n",
        "from IPython.display import clear_output\r\n",
        "\r\n",
        "import tensorflow as tf\r\n",
        "print(tf.__version__)\r\n",
        "from tensorflow.keras import regularizers\r\n",
        "from tensorflow import keras\r\n",
        "from tensorflow.keras import layers\r\n",
        "from tensorflow.keras.losses import SparseCategoricalCrossentropy\r\n",
        "from tensorflow.keras.losses import *\r\n",
        "import matplotlib.pyplot as plt\r\n",
        "import numpy as np\r\n",
        "from sklearn.datasets import load_iris\r\n",
        "from sklearn.model_selection import RepeatedStratifiedKFold\r\n",
        "from sklearn.linear_model import LogisticRegression\r\n",
        "from sklearn.model_selection import cross_val_score\r\n",
        "from sklearn.model_selection import KFold\r\n",
        "# from sklearn.model_selection import cross_validate\r\n",
        "from sklearn.metrics import *"
      ],
      "execution_count": 1,
      "outputs": [
        {
          "output_type": "stream",
          "text": [
            "2.4.0\n"
          ],
          "name": "stdout"
        }
      ]
    },
    {
      "cell_type": "code",
      "metadata": {
        "id": "4RYmWYwDwpFe",
        "colab": {
          "base_uri": "https://localhost:8080/"
        },
        "outputId": "d7956f99-ef1b-4db9-cf84-cd07a33a7b7d"
      },
      "source": [
        "data_x,data_y = load_iris(return_X_y=True)\r\n",
        "print(data_x[0],data_y[0])\r\n",
        "print(data_x[0].shape)\r\n",
        "print(data_y.shape)\r\n",
        "\r\n",
        "rskf = RepeatedStratifiedKFold(n_splits=10, n_repeats=5)\r\n",
        "res=[]"
      ],
      "execution_count": 2,
      "outputs": [
        {
          "output_type": "stream",
          "text": [
            "[5.1 3.5 1.4 0.2] 0\n",
            "(4,)\n",
            "(150,)\n"
          ],
          "name": "stdout"
        }
      ]
    },
    {
      "cell_type": "code",
      "metadata": {
        "id": "y4n2p_3ZxwK4",
        "colab": {
          "base_uri": "https://localhost:8080/"
        },
        "outputId": "96d2b2a7-2c91-48b3-aee3-fe2bea1dfe55"
      },
      "source": [
        "x_1 = keras.Input(shape=(4,))\r\n",
        "h1_1 = layers.Dense(6, activation='relu')(x_1)\r\n",
        "h2_1 = layers.Dense(5, activation='relu')(h1_1)\r\n",
        "h3_1 = layers.Dense(4, activation='sigmoid')(h2_1)\r\n",
        "outputs = layers.Dense(3,activation='softmax')(h3_1)\r\n",
        "nn_model = keras.Model(inputs=x_1, outputs=outputs,name='nn_network')\r\n",
        "nn_model.summary()"
      ],
      "execution_count": 3,
      "outputs": [
        {
          "output_type": "stream",
          "text": [
            "Model: \"nn_network\"\n",
            "_________________________________________________________________\n",
            "Layer (type)                 Output Shape              Param #   \n",
            "=================================================================\n",
            "input_1 (InputLayer)         [(None, 4)]               0         \n",
            "_________________________________________________________________\n",
            "dense (Dense)                (None, 6)                 30        \n",
            "_________________________________________________________________\n",
            "dense_1 (Dense)              (None, 5)                 35        \n",
            "_________________________________________________________________\n",
            "dense_2 (Dense)              (None, 4)                 24        \n",
            "_________________________________________________________________\n",
            "dense_3 (Dense)              (None, 3)                 15        \n",
            "=================================================================\n",
            "Total params: 104\n",
            "Trainable params: 104\n",
            "Non-trainable params: 0\n",
            "_________________________________________________________________\n"
          ],
          "name": "stdout"
        }
      ]
    },
    {
      "cell_type": "code",
      "metadata": {
        "id": "mY_QmRzn1RxY",
        "colab": {
          "base_uri": "https://localhost:8080/"
        },
        "outputId": "fdccda20-43d5-4526-c0a7-b8b6d2c616c6"
      },
      "source": [
        "nn_model.compile(optimizer='adam',loss=tf.losses.SparseCategoricalCrossentropy(),metrics=['accuracy'])\r\n",
        "kf=KFold(n_splits=5,shuffle=True)\r\n",
        "scce = tf.keras.losses.SparseCategoricalCrossentropy(\r\n",
        "    reduction=tf.keras.losses.Reduction.NONE)\r\n",
        "cce = tf.keras.losses.CategoricalCrossentropy()\r\n",
        "nn_loss=0\r\n",
        "loss=0\r\n",
        "acc=0\r\n",
        "res=[]\r\n",
        "#---\r\n",
        "nn_acc_score=0\r\n",
        "nn_recall_marco_score=0\r\n",
        "nn_recall_mirco_score=0\r\n",
        "nn_precision_macro_score=0\r\n",
        "nn_precision_micro_score=0\r\n",
        "nn_confusion_matrix_sum=np.empty((3,3))\r\n",
        "nn_confusion_matrix_sum[:]=0\r\n",
        "#----\r\n",
        "for train_index,test_index in kf.split(data_x):\r\n",
        "    x_train,x_test=data_x[train_index],data_x[test_index]\r\n",
        "    y_train,y_test=data_y[train_index],data_y[test_index]\r\n",
        "    history = nn_model.fit(data_x,data_y,\r\n",
        "              batch_size=1, epochs=25, verbose=0)\r\n",
        "    res.append(history)\r\n",
        "    y_pred=np.argmax(nn_model.predict(x_test),axis=1)\r\n",
        "    tmp_lo,tmp_ac=nn_model.evaluate(x_test,y_test,verbose=1)\r\n",
        "    loss+=tmp_lo\r\n",
        "    acc+=tmp_ac\r\n",
        "    nn_acc_score=nn_acc_score+accuracy_score(y_test,y_pred)\r\n",
        "    nn_recall_marco_score=nn_recall_marco_score+recall_score(y_test, y_pred, average='macro')\r\n",
        "    nn_recall_mirco_score=nn_recall_mirco_score+recall_score(y_test, y_pred, average='macro')\r\n",
        "    nn_precision_macro_score=nn_precision_macro_score+precision_score(y_test, y_pred, average='macro')\r\n",
        "    nn_precision_micro_score=nn_precision_micro_score+precision_score(y_test, y_pred, average='micro')\r\n",
        "    nn_confusion_matrix_sum=nn_confusion_matrix_sum+confusion_matrix(y_test, y_pred)\r\n",
        "    print(\"recall_marco_score:\",recall_score(y_test, y_pred, average='macro'))\r\n",
        "    print(\"recall_mirco_score:\",recall_score(y_test, y_pred, average='macro'))\r\n",
        "    print(\"precision_macro_score:\",precision_score(y_test, y_pred, average='macro'))\r\n",
        "    print(\"precision_micro_score:\",precision_score(y_test, y_pred, average='macro'))\r\n",
        "    print(\"confusion_matrix:\\n\",confusion_matrix(y_test, y_pred))\r\n",
        "    # print(y_pred,y_test)\r\n",
        "    # loss+=np.array(scce(y_pred,y_test))\r\n",
        "    y_test=y_test.astype('float64')\r\n",
        "    y_pred=y_pred.astype('float64')\r\n",
        "    nn_loss=nn_loss+cce(y_pred,y_test).numpy()\r\n",
        "    # print(los)\r\n",
        "    # print(y_pred,y_test,)\r\n",
        "print('-----------------------------------------')\r\n",
        "print('loss_avg:',nn_loss/5)\r\n",
        "print('model.evaluate loss:',loss/5, \"model.evaluate accuracy:\",acc/5)\r\n",
        "print(\"accuracy_score:\",nn_acc_score/5)\r\n",
        "print(\"recall_marco_score_avg:\",nn_recall_marco_score/5)\r\n",
        "print(\"recall_mirco_score_avg:\",nn_recall_mirco_score/5)\r\n",
        "print(\"precision_macro_score_avg:\",nn_precision_macro_score/5)\r\n",
        "print(\"precision_micro_score_avg:\",nn_precision_micro_score/5)\r\n",
        "print(\"confusion_matrix_avg:\\n\",nn_confusion_matrix_sum/5)\r\n"
      ],
      "execution_count": 4,
      "outputs": [
        {
          "output_type": "stream",
          "text": [
            "1/1 [==============================] - 0s 145ms/step - loss: 0.2425 - accuracy: 0.9333\n",
            "recall_marco_score: 0.9047619047619048\n",
            "recall_mirco_score: 0.9047619047619048\n",
            "precision_macro_score: 0.9487179487179488\n",
            "precision_micro_score: 0.9487179487179488\n",
            "confusion_matrix:\n",
            " [[12  0  0]\n",
            " [ 0  5  2]\n",
            " [ 0  0 11]]\n",
            "1/1 [==============================] - 0s 16ms/step - loss: 0.0881 - accuracy: 0.9667\n",
            "recall_marco_score: 0.9666666666666667\n",
            "recall_mirco_score: 0.9666666666666667\n",
            "precision_macro_score: 0.9743589743589745\n",
            "precision_micro_score: 0.9743589743589745\n",
            "confusion_matrix:\n",
            " [[ 8  0  0]\n",
            " [ 0  9  1]\n",
            " [ 0  0 12]]\n",
            "1/1 [==============================] - 0s 15ms/step - loss: 0.0439 - accuracy: 1.0000\n",
            "recall_marco_score: 1.0\n",
            "recall_mirco_score: 1.0\n",
            "precision_macro_score: 1.0\n",
            "precision_micro_score: 1.0\n",
            "confusion_matrix:\n",
            " [[ 6  0  0]\n",
            " [ 0 13  0]\n",
            " [ 0  0 11]]\n",
            "1/1 [==============================] - 0s 17ms/step - loss: 0.0307 - accuracy: 1.0000\n",
            "recall_marco_score: 1.0\n",
            "recall_mirco_score: 1.0\n",
            "precision_macro_score: 1.0\n",
            "precision_micro_score: 1.0\n",
            "confusion_matrix:\n",
            " [[12  0  0]\n",
            " [ 0  8  0]\n",
            " [ 0  0 10]]\n",
            "1/1 [==============================] - 0s 16ms/step - loss: 0.0170 - accuracy: 1.0000\n",
            "recall_marco_score: 1.0\n",
            "recall_mirco_score: 1.0\n",
            "precision_macro_score: 1.0\n",
            "precision_micro_score: 1.0\n",
            "confusion_matrix:\n",
            " [[12  0  0]\n",
            " [ 0 12  0]\n",
            " [ 0  0  6]]\n",
            "-----------------------------------------\n",
            "loss_avg: 90.50125427246094\n",
            "model.evaluate loss: 0.08443395979702473 model.evaluate accuracy: 0.9799999952316284\n",
            "accuracy_score: 0.9800000000000001\n",
            "recall_marco_score_avg: 0.9742857142857144\n",
            "recall_mirco_score_avg: 0.9742857142857144\n",
            "precision_macro_score_avg: 0.9846153846153847\n",
            "precision_micro_score_avg: 0.9800000000000001\n",
            "confusion_matrix_avg:\n",
            " [[10.   0.   0. ]\n",
            " [ 0.   9.4  0.6]\n",
            " [ 0.   0.  10. ]]\n"
          ],
          "name": "stdout"
        }
      ]
    },
    {
      "cell_type": "code",
      "metadata": {
        "id": "yYyxW9aX24p4",
        "colab": {
          "base_uri": "https://localhost:8080/",
          "height": 282
        },
        "outputId": "32d9fa02-9eab-440b-c47c-2cb31ad364df"
      },
      "source": [
        "tmp=res\r\n",
        "loss_pic=np.array([])\r\n",
        "acc_pic=np.array([])\r\n",
        "for i in tmp:\r\n",
        "    loss_pic=np.append(loss_pic,np.array(i.history['loss']))\r\n",
        "plt.plot(loss_pic)"
      ],
      "execution_count": 5,
      "outputs": [
        {
          "output_type": "execute_result",
          "data": {
            "text/plain": [
              "[<matplotlib.lines.Line2D at 0x7f364aa83da0>]"
            ]
          },
          "metadata": {
            "tags": []
          },
          "execution_count": 5
        },
        {
          "output_type": "display_data",
          "data": {
            "image/png": "[encoded data removed]",
            "text/plain": [
              "<Figure size 432x288 with 1 Axes>"
            ]
          },
          "metadata": {
            "tags": [],
            "needs_background": "light"
          }
        }
      ]
    },
    {
      "cell_type": "code",
      "metadata": {
        "id": "tIiJEQtF3nzQ",
        "colab": {
          "base_uri": "https://localhost:8080/",
          "height": 282
        },
        "outputId": "959a4b56-5006-43d5-b5fa-959408a987de"
      },
      "source": [
        "for i in tmp:\r\n",
        "    acc_pic=np.append(acc_pic,np.array(i.history['accuracy']))\r\n",
        "plt.plot(acc_pic)"
      ],
      "execution_count": 6,
      "outputs": [
        {
          "output_type": "execute_result",
          "data": {
            "text/plain": [
              "[<matplotlib.lines.Line2D at 0x7f364a264e80>]"
            ]
          },
          "metadata": {
            "tags": []
          },
          "execution_count": 6
        },
        {
          "output_type": "display_data",
          "data": {
            "image/png": "[encoded data removed]",
            "text/plain": [
              "<Figure size 432x288 with 1 Axes>"
            ]
          },
          "metadata": {
            "tags": [],
            "needs_background": "light"
          }
        }
      ]
    },
    {
      "cell_type": "code",
      "metadata": {
        "id": "qfpmfZ0_-iuv",
        "colab": {
          "base_uri": "https://localhost:8080/"
        },
        "collapsed": true,
        "outputId": "84c73f20-51e1-4058-e1a8-0185d3fb83db"
      },
      "source": [
        "rskf = RepeatedStratifiedKFold(n_splits=10, n_repeats=5)\r\n",
        "kf=KFold(n_splits=5,shuffle=True)\r\n",
        "loss_avg=0\r\n",
        "acc_score=0\r\n",
        "recall_marco_score=0\r\n",
        "recall_mirco_score=0\r\n",
        "precision_macro_score=0\r\n",
        "precision_micro_score=0\r\n",
        "confusion_matrix_sum=np.empty((3,3))\r\n",
        "confusion_matrix_sum[:]=0\r\n",
        "for train_index,test_index in kf.split(data_x):\r\n",
        "    x_train,x_test=data_x[train_index],data_x[test_index]\r\n",
        "    y_train,y_test=data_y[train_index],data_y[test_index]\r\n",
        "    clf = LogisticRegression(random_state=0,multi_class=\"multinomial\",max_iter=10000).fit(x_train, y_train)\r\n",
        "    y_pred=clf.predict(x_test)\r\n",
        "    y_test=y_test.astype('float64')\r\n",
        "    y_pred=y_pred.astype('float64')\r\n",
        "    cce = tf.keras.losses.CategoricalCrossentropy()\r\n",
        "    loss_avg=loss_avg+cce(y_pred,y_test).numpy()\r\n",
        "    acc_score=acc_score+accuracy_score(y_test,y_pred)\r\n",
        "    recall_marco_score=recall_marco_score+recall_score(y_test, y_pred, average='macro')\r\n",
        "    recall_mirco_score=recall_mirco_score+recall_score(y_test, y_pred, average='macro')\r\n",
        "    precision_macro_score=precision_macro_score+precision_score(y_test, y_pred, average='macro')\r\n",
        "    precision_micro_score=precision_micro_score+precision_score(y_test, y_pred, average='micro')\r\n",
        "    confusion_matrix_sum=confusion_matrix_sum+confusion_matrix(y_test, y_pred)\r\n",
        "    print(\"recall_marco_score:\",recall_score(y_test, y_pred, average='macro'))\r\n",
        "    print(\"recall_mirco_score:\",recall_score(y_test, y_pred, average='macro'))\r\n",
        "    print(\"precision_macro_score:\",precision_score(y_test, y_pred, average='macro'))\r\n",
        "    print(\"precision_micro_score:\",precision_score(y_test, y_pred, average='macro'))\r\n",
        "    print(\"confusion_matrix:\\n\",confusion_matrix(y_test, y_pred))\r\n",
        "    print('--------')\r\n",
        "print('loss_avg:',loss_avg/5)\r\n",
        "print(\"accuracy_score:\",acc_score/5)\r\n",
        "print(\"recall_marco_score_avg:\",recall_marco_score/5)\r\n",
        "print(\"recall_mirco_score_avg:\",recall_mirco_score/5)\r\n",
        "print(\"precision_macro_score_avg:\",precision_macro_score/5)\r\n",
        "print(\"precision_micro_score_avg:\",precision_micro_score/5)\r\n",
        "print(\"confusion_matrix_avg:\\n\",confusion_matrix_sum/5)"
      ],
      "execution_count": 7,
      "outputs": [
        {
          "output_type": "stream",
          "text": [
            "recall_marco_score: 0.9696969696969697\n",
            "recall_mirco_score: 0.9696969696969697\n",
            "precision_macro_score: 0.9629629629629629\n",
            "precision_micro_score: 0.9629629629629629\n",
            "confusion_matrix:\n",
            " [[11  0  0]\n",
            " [ 0 10  1]\n",
            " [ 0  0  8]]\n",
            "--------\n",
            "recall_marco_score: 1.0\n",
            "recall_mirco_score: 1.0\n",
            "precision_macro_score: 1.0\n",
            "precision_micro_score: 1.0\n",
            "confusion_matrix:\n",
            " [[ 6  0  0]\n",
            " [ 0  9  0]\n",
            " [ 0  0 15]]\n",
            "--------\n",
            "recall_marco_score: 1.0\n",
            "recall_mirco_score: 1.0\n",
            "precision_macro_score: 1.0\n",
            "precision_micro_score: 1.0\n",
            "confusion_matrix:\n",
            " [[13  0  0]\n",
            " [ 0  9  0]\n",
            " [ 0  0  8]]\n",
            "--------\n",
            "recall_marco_score: 0.8910256410256411\n",
            "recall_mirco_score: 0.8910256410256411\n",
            "precision_macro_score: 0.9047619047619048\n",
            "precision_micro_score: 0.9047619047619048\n",
            "confusion_matrix:\n",
            " [[ 9  0  0]\n",
            " [ 0  6  2]\n",
            " [ 0  1 12]]\n",
            "--------\n",
            "recall_marco_score: 1.0\n",
            "recall_mirco_score: 1.0\n",
            "precision_macro_score: 1.0\n",
            "precision_micro_score: 1.0\n",
            "confusion_matrix:\n",
            " [[11  0  0]\n",
            " [ 0 13  0]\n",
            " [ 0  0  6]]\n",
            "--------\n",
            "loss_avg: 90.18143463134766\n",
            "accuracy_score: 0.9733333333333334\n",
            "recall_marco_score_avg: 0.9721445221445222\n",
            "recall_mirco_score_avg: 0.9721445221445222\n",
            "precision_macro_score_avg: 0.9735449735449734\n",
            "precision_micro_score_avg: 0.9733333333333334\n",
            "confusion_matrix_avg:\n",
            " [[10.   0.   0. ]\n",
            " [ 0.   9.4  0.6]\n",
            " [ 0.   0.2  9.8]]\n"
          ],
          "name": "stdout"
        }
      ]
    },
    {
      "cell_type": "markdown",
      "metadata": {
        "id": "myWlenhpQ-qO"
      },
      "source": [
        ""
      ]
    },
    {
      "cell_type": "code",
      "metadata": {
        "colab": {
          "base_uri": "https://localhost:8080/",
          "height": 512
        },
        "id": "glmvNPXKy1pe",
        "outputId": "0260342b-2ecb-4f64-b01b-1c343d74f9a2"
      },
      "source": [
        "\r\n",
        "plt.title(\"Loss compare\",fontsize=25,)\r\n",
        "plt.bar(['sk_loss','nn_loss'],[loss_avg/5,nn_loss/5],width=0.5,)\r\n",
        "print('pack vs nn')\r\n",
        "print(\"loss_avg\",nn_loss/5,loss_avg/5)\r\n",
        "print(\"recall_marco_score_avg:\",nn_recall_marco_score/5,recall_marco_score/5)\r\n",
        "print(\"recall_mirco_score_avg:\",nn_recall_mirco_score/5,recall_mirco_score/5)\r\n",
        "print(\"precision_macro_score_avg:\",nn_precision_macro_score/5,precision_macro_score/5)\r\n",
        "print(\"precision_mirco_score_avg:\",nn_precision_micro_score/5,precision_micro_score/5)\r\n",
        "print(\"confusion_matrix_avg:\\n\",nn_confusion_matrix_sum/5,'\\nvs',confusion_matrix_sum/5)"
      ],
      "execution_count": 8,
      "outputs": [
        {
          "output_type": "stream",
          "text": [
            "pack vs nn\n",
            "loss_avg 90.50125427246094 90.18143463134766\n",
            "recall_marco_score_avg: 0.9742857142857144 0.9721445221445222\n",
            "recall_mirco_score_avg: 0.9742857142857144 0.9721445221445222\n",
            "precision_macro_score_avg: 0.9846153846153847 0.9735449735449734\n",
            "precision_mirco_score_avg: 0.9800000000000001 0.9733333333333334\n",
            "confusion_matrix_avg:\n",
            " [[10.   0.   0. ]\n",
            " [ 0.   9.4  0.6]\n",
            " [ 0.   0.  10. ]] \n",
            "vs [[10.   0.   0. ]\n",
            " [ 0.   9.4  0.6]\n",
            " [ 0.   0.2  9.8]]\n"
          ],
          "name": "stdout"
        },
        {
          "output_type": "display_data",
          "data": {
            "image/png": "[encoded data removed]",
            "text/plain": [
              "<Figure size 432x288 with 1 Axes>"
            ]
          },
          "metadata": {
            "tags": [],
            "needs_background": "light"
          }
        }
      ]
    }
  ]
}