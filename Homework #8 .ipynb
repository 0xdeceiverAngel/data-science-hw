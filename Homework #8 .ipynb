{
  "cells": [
    {
      "cell_type": "code",
      "metadata": {
        "id": "xdAG2Eq6wJNQ",
        "colab": {
          "base_uri": "https://localhost:8080/"
        },
        "outputId": "e2730750-399f-4f10-879b-58005f08dd9b"
      },
      "source": [
        "# !pip install sklearn\r\n",
        "from IPython.display import clear_output\r\n",
        "import pandas as pd\r\n",
        "import tensorflow as tf\r\n",
        "print(tf.__version__)\r\n",
        "from tensorflow.keras import regularizers\r\n",
        "from tensorflow import keras\r\n",
        "from tensorflow.keras import layers\r\n",
        "from tensorflow.keras.losses import SparseCategoricalCrossentropy\r\n",
        "from tensorflow.keras.losses import *\r\n",
        "from tensorflow.keras.metrics import *\r\n",
        "import matplotlib.pyplot as plt\r\n",
        "import numpy as np\r\n",
        "from sklearn.datasets import load_iris\r\n",
        "from sklearn.model_selection import RepeatedStratifiedKFold\r\n",
        "from sklearn.linear_model import LogisticRegression\r\n",
        "from sklearn.model_selection import cross_val_score\r\n",
        "from sklearn.model_selection import KFold\r\n",
        "# from sklearn.model_selection import cross_validate\r\n",
        "from sklearn.metrics import *"
      ],
      "execution_count": null,
      "outputs": [
        {
          "output_type": "stream",
          "text": [
            "2.4.0\n"
          ],
          "name": "stdout"
        }
      ]
    },
    {
      "cell_type": "code",
      "metadata": {
        "id": "4RYmWYwDwpFe",
        "colab": {
          "base_uri": "https://localhost:8080/"
        },
        "outputId": "9a3598b2-5c91-4ee9-f56e-7bd9c202839b"
      },
      "source": [
        "#load data\r\n",
        "data_x,data_y = load_iris(return_X_y=True)\r\n",
        "print(data_x[0],data_y[0])\r\n",
        "print(data_x[0].shape)\r\n",
        "print(data_y.shape)"
      ],
      "execution_count": null,
      "outputs": [
        {
          "output_type": "stream",
          "text": [
            "[5.1 3.5 1.4 0.2] 0\n",
            "(4,)\n",
            "(150,)\n"
          ],
          "name": "stdout"
        }
      ]
    },
    {
      "cell_type": "code",
      "metadata": {
        "id": "y4n2p_3ZxwK4",
        "colab": {
          "base_uri": "https://localhost:8080/"
        },
        "outputId": "0a4c97e8-a16c-4afd-bd6f-30d4f4214a2a"
      },
      "source": [
        "#define model\r\n",
        "x_1 = keras.Input(shape=(4,))\r\n",
        "h1_1 = layers.Dense(6, activation='relu')(x_1)\r\n",
        "h2_1 = layers.Dense(5, activation='relu')(h1_1)\r\n",
        "# h3_1 = layers.Dense(4, activation='sigmoid')(h2_1)\r\n",
        "outputs = layers.Dense(3,activation='softmax')(h2_1)\r\n",
        "nn_model = keras.Model(inputs=x_1, outputs=outputs,name='nn_network')\r\n",
        "nn_model.summary()\r\n",
        "nn_model.compile(optimizer='adam',loss=tf.losses.SparseCategoricalCrossentropy(),metrics=['accuracy'])"
      ],
      "execution_count": null,
      "outputs": [
        {
          "output_type": "stream",
          "text": [
            "Model: \"nn_network\"\n",
            "_________________________________________________________________\n",
            "Layer (type)                 Output Shape              Param #   \n",
            "=================================================================\n",
            "input_8 (InputLayer)         [(None, 4)]               0         \n",
            "_________________________________________________________________\n",
            "dense_21 (Dense)             (None, 6)                 30        \n",
            "_________________________________________________________________\n",
            "dense_22 (Dense)             (None, 5)                 35        \n",
            "_________________________________________________________________\n",
            "dense_23 (Dense)             (None, 3)                 18        \n",
            "=================================================================\n",
            "Total params: 83\n",
            "Trainable params: 83\n",
            "Non-trainable params: 0\n",
            "_________________________________________________________________\n"
          ],
          "name": "stdout"
        }
      ]
    },
    {
      "cell_type": "code",
      "metadata": {
        "id": "mY_QmRzn1RxY",
        "colab": {
          "base_uri": "https://localhost:8080/"
        },
        "outputId": "3e5a73cf-a8ee-4c6e-bfef-9185a9fe93da"
      },
      "source": [
        "# train my own nn_network\r\n",
        "kf=KFold(n_splits=5,shuffle=True)\r\n",
        "scce = tf.keras.losses.SparseCategoricalCrossentropy(reduction=tf.keras.losses.Reduction.NONE)\r\n",
        "cce = tf.keras.losses.CategoricalCrossentropy()\r\n",
        "nn_loss=0\r\n",
        "loss=0\r\n",
        "acc=0\r\n",
        "res=[]\r\n",
        "#---\r\n",
        "nn_acc_score=0\r\n",
        "nn_recall_marco_score=0\r\n",
        "nn_recall_mirco_score=0\r\n",
        "nn_precision_macro_score=0\r\n",
        "nn_precision_micro_score=0\r\n",
        "nn_confusion_matrix_sum=np.empty((3,3))\r\n",
        "nn_confusion_matrix_sum[:]=0\r\n",
        "time=1\r\n",
        "#----\r\n",
        "for train_index,test_index in kf.split(data_x):\r\n",
        "    x_train,x_test=data_x[train_index],data_x[test_index]\r\n",
        "    y_train,y_test=data_y[train_index],data_y[test_index]\r\n",
        "    hix_train=y_traindel.fit(data_x,data_y,\r\n",
        "              batch_size=1, epochs=25, verbose=0,\r\n",
        "              validation_data=(x_test,y_test),\r\n",
        "            #   validation_split=0.1\r\n",
        "              )\r\n",
        "    res.append(history)\r\n",
        "    y_pred=np.argmax(nn_model.predict(x_test),axis=1)\r\n",
        "    tmp_lo,tmp_ac=nn_model.evaluate(x_test,y_test,verbose=1)\r\n",
        "    loss+=tmp_lo\r\n",
        "    acc+=tmp_ac\r\n",
        "    nn_acc_score=nn_acc_score+accuracy_score(y_test,y_pred)\r\n",
        "    nn_recall_marco_score=nn_recall_marco_score+recall_score(y_test, y_pred, average='macro')\r\n",
        "    nn_recall_mirco_score=nn_recall_mirco_score+recall_score(y_test, y_pred, average='macro')\r\n",
        "    nn_precision_macro_score=nn_precision_macro_score+precision_score(y_test, y_pred, average='macro')\r\n",
        "    nn_precision_micro_score=nn_precision_micro_score+precision_score(y_test, y_pred, average='micro')\r\n",
        "    nn_confusion_matrix_sum=nn_confusion_matrix_sum+confusion_matrix(y_test, y_pred)\r\n",
        "    y_test=y_test.astype('float64')\r\n",
        "    y_pred=y_pred.astype('float64')\r\n",
        "    nn_loss=nn_loss+cce(y_pred,y_test).numpy()\r\n",
        "    print('time:',time)\r\n",
        "    time=time+1\r\n",
        "    print('loss:',cce(y_pred,y_test).numpy())\r\n",
        "    print(\"recall_marco_score:\",recall_score(y_test, y_pred, average='macro'))\r\n",
        "    print(\"recall_mirco_score:\",recall_score(y_test, y_pred, average='macro'))\r\n",
        "    print(\"precision_macro_score:\",precision_score(y_test, y_pred, average='macro'))\r\n",
        "    print(\"precision_micro_score:\",precision_score(y_test, y_pred, average='macro'))\r\n",
        "    print(\"confusion_matrix:\\n\",confusion_matrix(y_test, y_pred))\r\n",
        "    # print(pd.crosstab(y_test,y_pred))\r\n",
        "    \r\n",
        "print('-----------------------------------------')\r\n",
        "print('loss_avg:',nn_loss/5)\r\n",
        "print('model.evaluate loss:',loss/5, \"model.evaluate accuracy:\",acc/5)\r\n",
        "print(\"accuracy_score:\",nn_acc_score/5)\r\n",
        "print(\"recall_marco_score_avg:\",nn_recall_marco_score/5)\r\n",
        "print(\"recall_mirco_score_avg:\",nn_recall_mirco_score/5)\r\n",
        "print(\"precision_macro_score_avg:\",nn_precision_macro_score/5)\r\n",
        "print(\"precision_micro_score_avg:\",nn_precision_micro_score/5)\r\n",
        "print(\"confusion_matrix_avg:\\n\",nn_confusion_matrix_sum/5)\r\n"
      ],
      "execution_count": null,
      "outputs": [
        {
          "output_type": "stream",
          "text": [
            "1/1 [==============================] - 0s 93ms/step - loss: 0.0982 - accuracy: 0.9667\n",
            "time: 1\n",
            "loss: 113.18208312988281\n",
            "recall_marco_score: 0.9583333333333334\n",
            "recall_mirco_score: 0.9583333333333334\n",
            "precision_macro_score: 0.9777777777777779\n",
            "precision_micro_score: 0.9777777777777779\n",
            "confusion_matrix:\n",
            " [[ 8  0  0]\n",
            " [ 0  7  1]\n",
            " [ 0  0 14]]\n",
            "1/1 [==============================] - 0s 14ms/step - loss: 0.1196 - accuracy: 0.9333\n",
            "time: 2\n",
            "loss: 85.87520599365234\n",
            "recall_marco_score: 0.9487179487179488\n",
            "recall_mirco_score: 0.9487179487179488\n",
            "precision_macro_score: 0.9259259259259259\n",
            "precision_micro_score: 0.9259259259259259\n",
            "confusion_matrix:\n",
            " [[10  0  0]\n",
            " [ 0 11  2]\n",
            " [ 0  0  7]]\n",
            "1/1 [==============================] - 0s 16ms/step - loss: 0.0465 - accuracy: 1.0000\n",
            "time: 3\n",
            "loss: 82.21137237548828\n",
            "recall_marco_score: 1.0\n",
            "recall_mirco_score: 1.0\n",
            "precision_macro_score: 1.0\n",
            "precision_micro_score: 1.0\n",
            "confusion_matrix:\n",
            " [[10  0  0]\n",
            " [ 0 12  0]\n",
            " [ 0  0  8]]\n",
            "1/1 [==============================] - 0s 14ms/step - loss: 0.1347 - accuracy: 0.9667\n",
            "time: 4\n",
            "loss: 81.38468933105469\n",
            "recall_marco_score: 0.9444444444444445\n",
            "recall_mirco_score: 0.9444444444444445\n",
            "precision_macro_score: 0.9722222222222222\n",
            "precision_micro_score: 0.9722222222222222\n",
            "confusion_matrix:\n",
            " [[13  0  0]\n",
            " [ 0  5  1]\n",
            " [ 0  0 11]]\n",
            "1/1 [==============================] - 0s 14ms/step - loss: 0.0911 - accuracy: 0.9667\n",
            "time: 5\n",
            "loss: 89.84982299804688\n",
            "recall_marco_score: 0.9666666666666667\n",
            "recall_mirco_score: 0.9666666666666667\n",
            "precision_macro_score: 0.9722222222222222\n",
            "precision_micro_score: 0.9722222222222222\n",
            "confusion_matrix:\n",
            " [[ 9  0  0]\n",
            " [ 0 11  0]\n",
            " [ 0  1  9]]\n",
            "-----------------------------------------\n",
            "loss_avg: 90.500634765625\n",
            "model.evaluate loss: 0.09800887107849121 model.evaluate accuracy: 0.9666666507720947\n",
            "accuracy_score: 0.9666666666666666\n",
            "recall_marco_score_avg: 0.9636324786324787\n",
            "recall_mirco_score_avg: 0.9636324786324787\n",
            "precision_macro_score_avg: 0.9696296296296296\n",
            "precision_micro_score_avg: 0.9666666666666666\n",
            "confusion_matrix_avg:\n",
            " [[10.   0.   0. ]\n",
            " [ 0.   9.2  0.8]\n",
            " [ 0.   0.2  9.8]]\n"
          ],
          "name": "stdout"
        }
      ]
    },
    {
      "cell_type": "code",
      "metadata": {
        "id": "yYyxW9aX24p4",
        "colab": {
          "base_uri": "https://localhost:8080/",
          "height": 307
        },
        "outputId": "fee31120-bc0a-45e1-d01c-42e645160887"
      },
      "source": [
        "tmp=res\r\n",
        "loss_pic=np.array([])\r\n",
        "acc_pic=np.array([])\r\n",
        "for i in tmp:\r\n",
        "    loss_pic=np.append(loss_pic,np.array(i.history['loss']))\r\n",
        "plt.title(\"loss\",fontsize=25,)\r\n",
        "plt.plot(loss_pic)"
      ],
      "execution_count": null,
      "outputs": [
        {
          "output_type": "execute_result",
          "data": {
            "text/plain": [
              "[<matplotlib.lines.Line2D at 0x7efddeacc9e8>]"
            ]
          },
          "metadata": {
            "tags": []
          },
          "execution_count": 37
        },
        {
          "output_type": "display_data",
          "data": {
            "image/png": "[encoded data removed]",
            "text/plain": [
              "<Figure size 432x288 with 1 Axes>"
            ]
          },
          "metadata": {
            "tags": [],
            "needs_background": "light"
          }
        }
      ]
    },
    {
      "cell_type": "code",
      "metadata": {
        "id": "tIiJEQtF3nzQ",
        "colab": {
          "base_uri": "https://localhost:8080/",
          "height": 307
        },
        "outputId": "ddf6f69b-a8b3-44d8-9219-efba10edb654"
      },
      "source": [
        "plt.title(\"accuracy\",fontsize=25,)\r\n",
        "for i in tmp:\r\n",
        "    acc_pic=np.append(acc_pic,np.array(i.history['accuracy']))\r\n",
        "plt.plot(acc_pic)"
      ],
      "execution_count": null,
      "outputs": [
        {
          "output_type": "execute_result",
          "data": {
            "text/plain": [
              "[<matplotlib.lines.Line2D at 0x7efde2f68f60>]"
            ]
          },
          "metadata": {
            "tags": []
          },
          "execution_count": 38
        },
        {
          "output_type": "display_data",
          "data": {
            "image/png": "[encoded data removed]",
            "text/plain": [
              "<Figure size 432x288 with 1 Axes>"
            ]
          },
          "metadata": {
            "tags": [],
            "needs_background": "light"
          }
        }
      ]
    },
    {
      "cell_type": "code",
      "metadata": {
        "colab": {
          "base_uri": "https://localhost:8080/",
          "height": 290
        },
        "id": "bfbnvRQpRauR",
        "outputId": "b80c2990-633e-4e61-90c4-dac568b41539"
      },
      "source": [
        "loss_pic=np.array([])\r\n",
        "acc_pic=np.array([])\r\n",
        "val_pic=np.array([])\r\n",
        "plt.title(\"Loss compare\",fontsize=25,)\r\n",
        "for i in res:\r\n",
        "    loss_pic=np.append(loss_pic,np.array(i.history['loss']))\r\n",
        "plt.plot(loss_pic)\r\n",
        "for i in res:\r\n",
        "    val_pic=np.append(val_pic,np.array(i.history['val_loss']))\r\n",
        "ep=range(1,len(loss_pic)+1)\r\n",
        "plt.plot(ep,loss_pic,\"red\",label=\"training loss\")\r\n",
        "plt.plot(ep,val_pic,\"orange\",label=\"val loss\")\r\n",
        "plt.legend()\r\n",
        "plt.show()\r\n"
      ],
      "execution_count": null,
      "outputs": [
        {
          "output_type": "display_data",
          "data": {
            "image/png": "[encoded data removed]",
            "text/plain": [
              "<Figure size 432x288 with 1 Axes>"
            ]
          },
          "metadata": {
            "tags": [],
            "needs_background": "light"
          }
        }
      ]
    },
    {
      "cell_type": "code",
      "metadata": {
        "id": "qfpmfZ0_-iuv",
        "colab": {
          "base_uri": "https://localhost:8080/"
        },
        "outputId": "1153ec98-d10c-4395-e1a1-3e9f4d853934"
      },
      "source": [
        "# use sklearn LogisticRegression\r\n",
        "kf=KFold(n_splits=5,shuffle=True)\r\n",
        "loss_avg=0\r\n",
        "acc_score=0\r\n",
        "recall_marco_score=0\r\n",
        "recall_mirco_score=0\r\n",
        "precision_macro_score=0\r\n",
        "precision_micro_score=0\r\n",
        "confusion_matrix_sum=np.empty((3,3))\r\n",
        "confusion_matrix_sum[:]=0\r\n",
        "time=1\r\n",
        "for train_index,test_index in kf.split(data_x):\r\n",
        "    x_train,x_test=data_x[train_index],data_x[test_index]\r\n",
        "    y_train,y_test=data_y[train_index],data_y[test_index]\r\n",
        "    clf = LogisticRegression(random_state=0,multi_class=\"multinomial\",max_iter=10000).fit(x_train, y_train)\r\n",
        "    y_pred=clf.predict(x_test)\r\n",
        "    y_test=y_test.astype('float64')\r\n",
        "    y_pred=y_pred.astype('float64')\r\n",
        "    cce = tf.keras.losses.CategoricalCrossentropy()\r\n",
        "    loss_avg=loss_avg+cce(y_pred,y_test).numpy()\r\n",
        "    acc_score=acc_score+accuracy_score(y_test,y_pred)\r\n",
        "    recall_marco_score=recall_marco_score+recall_score(y_test, y_pred, average='macro')\r\n",
        "    recall_mirco_score=recall_mirco_score+recall_score(y_test, y_pred, average='macro')\r\n",
        "    precision_macro_score=precision_macro_score+precision_score(y_test, y_pred, average='macro')\r\n",
        "    precision_micro_score=precision_micro_score+precision_score(y_test, y_pred, average='micro')\r\n",
        "    confusion_matrix_sum=confusion_matrix_sum+confusion_matrix(y_test, y_pred)\r\n",
        "    print('time:',time)\r\n",
        "    time=time+1\r\n",
        "    print('loss',cce(y_pred,y_test).numpy())\r\n",
        "    print(\"recall_marco_score:\",recall_score(y_test, y_pred, average='macro'))\r\n",
        "    print(\"recall_mirco_score:\",recall_score(y_test, y_pred, average='macro'))\r\n",
        "    print(\"precision_macro_score:\",precision_score(y_test, y_pred, average='macro'))\r\n",
        "    print(\"precision_micro_score:\",precision_score(y_test, y_pred, average='macro'))\r\n",
        "    print(\"confusion_matrix:\\n\",confusion_matrix(y_test, y_pred))\r\n",
        "    print('--------')\r\n",
        "print('loss_avg:',loss_avg/5)\r\n",
        "print(\"accuracy_score:\",acc_score/5)\r\n",
        "print(\"recall_marco_score_avg:\",recall_marco_score/5)\r\n",
        "print(\"recall_mirco_score_avg:\",recall_mirco_score/5)\r\n",
        "print(\"precision_macro_score_avg:\",precision_macro_score/5)\r\n",
        "print(\"precision_micro_score_avg:\",precision_micro_score/5)\r\n",
        "print(\"confusion_matrix_avg:\\n\",confusion_matrix_sum/5)"
      ],
      "execution_count": null,
      "outputs": [
        {
          "output_type": "stream",
          "text": [
            "time: 1\n",
            "loss 95.91508483886719\n",
            "recall_marco_score: 0.9333333333333332\n",
            "recall_mirco_score: 0.9333333333333332\n",
            "precision_macro_score: 0.9555555555555556\n",
            "precision_micro_score: 0.9555555555555556\n",
            "confusion_matrix:\n",
            " [[ 7  0  0]\n",
            " [ 0 13  0]\n",
            " [ 0  2  8]]\n",
            "--------\n",
            "time: 2\n",
            "loss 51.45832061767578\n",
            "recall_marco_score: 1.0\n",
            "recall_mirco_score: 1.0\n",
            "precision_macro_score: 1.0\n",
            "precision_micro_score: 1.0\n",
            "confusion_matrix:\n",
            " [[18  0  0]\n",
            " [ 0  3  0]\n",
            " [ 0  0  9]]\n",
            "--------\n",
            "time: 3\n",
            "loss 133.78932189941406\n",
            "recall_marco_score: 0.9629629629629629\n",
            "recall_mirco_score: 0.9629629629629629\n",
            "precision_macro_score: 0.9803921568627452\n",
            "precision_micro_score: 0.9803921568627452\n",
            "confusion_matrix:\n",
            " [[ 5  0  0]\n",
            " [ 0  8  1]\n",
            " [ 0  0 16]]\n",
            "--------\n",
            "time: 4\n",
            "loss 84.15727996826172\n",
            "recall_marco_score: 0.9666666666666667\n",
            "recall_mirco_score: 0.9666666666666667\n",
            "precision_macro_score: 0.9666666666666667\n",
            "precision_micro_score: 0.9666666666666667\n",
            "confusion_matrix:\n",
            " [[11  0  0]\n",
            " [ 0  9  1]\n",
            " [ 0  0  9]]\n",
            "--------\n",
            "time: 5\n",
            "loss 83.96566772460938\n",
            "recall_marco_score: 0.9777777777777779\n",
            "recall_mirco_score: 0.9777777777777779\n",
            "precision_macro_score: 0.9523809523809524\n",
            "precision_micro_score: 0.9523809523809524\n",
            "confusion_matrix:\n",
            " [[ 9  0  0]\n",
            " [ 0 14  1]\n",
            " [ 0  0  6]]\n",
            "--------\n",
            "loss_avg: 89.85713500976563\n",
            "accuracy_score: 0.9666666666666666\n",
            "recall_marco_score_avg: 0.968148148148148\n",
            "recall_mirco_score_avg: 0.968148148148148\n",
            "precision_macro_score_avg: 0.970999066293184\n",
            "precision_micro_score_avg: 0.9666666666666666\n",
            "confusion_matrix_avg:\n",
            " [[10.   0.   0. ]\n",
            " [ 0.   9.4  0.6]\n",
            " [ 0.   0.4  9.6]]\n"
          ],
          "name": "stdout"
        }
      ]
    },
    {
      "cell_type": "markdown",
      "metadata": {
        "id": "myWlenhpQ-qO"
      },
      "source": [
        ""
      ]
    },
    {
      "cell_type": "code",
      "metadata": {
        "id": "glmvNPXKy1pe",
        "colab": {
          "base_uri": "https://localhost:8080/",
          "height": 546
        },
        "outputId": "7caa84f5-acb5-4725-8dd6-5dc1d9904adb"
      },
      "source": [
        "# summary\r\n",
        "plt.title(\"Loss compare\",fontsize=25,)\r\n",
        "plt.bar(['sklearn_loss','nn_loss'],[loss_avg/5,nn_loss/5],width=0.5,)\r\n",
        "plt.show()\r\n",
        "print('summary')\r\n",
        "print('use sklearn vs nn_network')\r\n",
        "print(\"loss_avg:\",nn_loss/5,loss_avg/5)\r\n",
        "print(\"recall_marco_score_avg:\",nn_recall_marco_score/5,recall_marco_score/5)\r\n",
        "print(\"recall_mirco_score_avg:\",nn_recall_mirco_score/5,recall_mirco_score/5)\r\n",
        "print(\"precision_macro_score_avg:\",nn_precision_macro_score/5,precision_macro_score/5)\r\n",
        "print(\"precision_mirco_score_avg:\",nn_precision_micro_score/5,precision_micro_score/5)\r\n",
        "print(\"confusion_matrix_avg:\\n\",nn_confusion_matrix_sum/5,'\\nvs',confusion_matrix_sum/5)\r\n",
        "print(\"overall use sklearn's LogisticRegression is better\")"
      ],
      "execution_count": null,
      "outputs": [
        {
          "output_type": "display_data",
          "data": {
            "image/png": "[encoded data removed]",
            "text/plain": [
              "<Figure size 432x288 with 1 Axes>"
            ]
          },
          "metadata": {
            "tags": [],
            "needs_background": "light"
          }
        },
        {
          "output_type": "stream",
          "text": [
            "summary\n",
            "use sklearn vs nn_network\n",
            "loss_avg: 90.500634765625 89.85713500976563\n",
            "recall_marco_score_avg: 0.9636324786324787 0.968148148148148\n",
            "recall_mirco_score_avg: 0.9636324786324787 0.968148148148148\n",
            "precision_macro_score_avg: 0.9696296296296296 0.970999066293184\n",
            "precision_mirco_score_avg: 0.9666666666666666 0.9666666666666666\n",
            "confusion_matrix_avg:\n",
            " [[10.   0.   0. ]\n",
            " [ 0.   9.2  0.8]\n",
            " [ 0.   0.2  9.8]] \n",
            "vs [[10.   0.   0. ]\n",
            " [ 0.   9.4  0.6]\n",
            " [ 0.   0.4  9.6]]\n",
            "overall use sklearn's LogisticRegression is better\n"
          ],
          "name": "stdout"
        }
      ]
    }
  ],
  "metadata": {
    "colab": {
      "name": "hw8.ipynb",
      "provenance": [],
      "collapsed_sections": []
    },
    "kernelspec": {
      "display_name": "Python 3",
      "name": "python3"
    }
  },
  "nbformat": 4,
  "nbformat_minor": 0
}