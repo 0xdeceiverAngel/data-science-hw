{
 "cells": [
  {
   "cell_type": "code",
   "execution_count": 1,
   "metadata": {},
   "outputs": [],
   "source": [
    "import numpy as np\n",
    "import pandas as pd\n",
    "import matplotlib.pyplot as plt\n",
    "plt.style.use(\"bmh\")\n",
    "plt.rcParams['font.sans-serif']=['Microsoft JhengHei'] #用来正常显示中文标签\n",
    "plt.rcParams['axes.unicode_minus']=False #用来正常显示负号\n",
    "%matplotlib inline"
   ]
  },
  {
   "cell_type": "code",
   "execution_count": 2,
   "metadata": {},
   "outputs": [
    {
     "data": {
      "text/html": [
       "<div>\n",
       "<style scoped>\n",
       "    .dataframe tbody tr th:only-of-type {\n",
       "        vertical-align: middle;\n",
       "    }\n",
       "\n",
       "    .dataframe tbody tr th {\n",
       "        vertical-align: top;\n",
       "    }\n",
       "\n",
       "    .dataframe thead th {\n",
       "        text-align: right;\n",
       "    }\n",
       "</style>\n",
       "<table border=\"1\" class=\"dataframe\">\n",
       "  <thead>\n",
       "    <tr style=\"text-align: right;\">\n",
       "      <th></th>\n",
       "      <th>device_id</th>\n",
       "      <th>SiteName</th>\n",
       "      <th>PM25</th>\n",
       "      <th>timestamp</th>\n",
       "    </tr>\n",
       "  </thead>\n",
       "  <tbody>\n",
       "    <tr>\n",
       "      <th>0</th>\n",
       "      <td>74DA38B05400</td>\n",
       "      <td>雲林縣立石榴國小(2017)</td>\n",
       "      <td>21</td>\n",
       "      <td>2020-10-01 00:00:00</td>\n",
       "    </tr>\n",
       "    <tr>\n",
       "      <th>1</th>\n",
       "      <td>08BEAC0A02D8</td>\n",
       "      <td>臺中市立中山國小(2019)</td>\n",
       "      <td>12</td>\n",
       "      <td>2020-10-01 00:00:00</td>\n",
       "    </tr>\n",
       "    <tr>\n",
       "      <th>2</th>\n",
       "      <td>08BEAC0A0476</td>\n",
       "      <td>雲林縣縣立古坑國小(2019)</td>\n",
       "      <td>25</td>\n",
       "      <td>2020-10-01 00:00:00</td>\n",
       "    </tr>\n",
       "    <tr>\n",
       "      <th>3</th>\n",
       "      <td>74DA38F20DD0</td>\n",
       "      <td>高雄市市立樂群國小(2018)</td>\n",
       "      <td>4</td>\n",
       "      <td>2020-10-01 00:00:00</td>\n",
       "    </tr>\n",
       "    <tr>\n",
       "      <th>4</th>\n",
       "      <td>08BEAC0A0030</td>\n",
       "      <td>臺中市立潭陽國小(2019)</td>\n",
       "      <td>6</td>\n",
       "      <td>2020-10-01 00:00:01</td>\n",
       "    </tr>\n",
       "    <tr>\n",
       "      <th>...</th>\n",
       "      <td>...</td>\n",
       "      <td>...</td>\n",
       "      <td>...</td>\n",
       "      <td>...</td>\n",
       "    </tr>\n",
       "    <tr>\n",
       "      <th>4385037</th>\n",
       "      <td>08BEAC0A06D2</td>\n",
       "      <td>臺南市市立德南國小(2019)</td>\n",
       "      <td>19</td>\n",
       "      <td>2020-10-12 23:59:47</td>\n",
       "    </tr>\n",
       "    <tr>\n",
       "      <th>4385038</th>\n",
       "      <td>08BEAC0A0194</td>\n",
       "      <td>臺中市立文昌國小(2019)</td>\n",
       "      <td>20</td>\n",
       "      <td>2020-10-12 23:59:47</td>\n",
       "    </tr>\n",
       "    <tr>\n",
       "      <th>4385039</th>\n",
       "      <td>08BEAC0A06A8</td>\n",
       "      <td>臺南市市立頂洲國小(2019)</td>\n",
       "      <td>14</td>\n",
       "      <td>2020-10-12 23:59:49</td>\n",
       "    </tr>\n",
       "    <tr>\n",
       "      <th>4385040</th>\n",
       "      <td>08BEAC09FFEC</td>\n",
       "      <td>臺中市立東寶國小(2019)</td>\n",
       "      <td>20</td>\n",
       "      <td>2020-10-12 23:59:49</td>\n",
       "    </tr>\n",
       "    <tr>\n",
       "      <th>4385041</th>\n",
       "      <td>08BEAC0A0868</td>\n",
       "      <td>臺南市市立新南國小(2019)</td>\n",
       "      <td>20</td>\n",
       "      <td>2020-10-12 23:59:49</td>\n",
       "    </tr>\n",
       "  </tbody>\n",
       "</table>\n",
       "<p>4385042 rows × 4 columns</p>\n",
       "</div>"
      ],
      "text/plain": [
       "            device_id         SiteName  PM25            timestamp\n",
       "0        74DA38B05400   雲林縣立石榴國小(2017)    21  2020-10-01 00:00:00\n",
       "1        08BEAC0A02D8   臺中市立中山國小(2019)    12  2020-10-01 00:00:00\n",
       "2        08BEAC0A0476  雲林縣縣立古坑國小(2019)    25  2020-10-01 00:00:00\n",
       "3        74DA38F20DD0  高雄市市立樂群國小(2018)     4  2020-10-01 00:00:00\n",
       "4        08BEAC0A0030   臺中市立潭陽國小(2019)     6  2020-10-01 00:00:01\n",
       "...               ...              ...   ...                  ...\n",
       "4385037  08BEAC0A06D2  臺南市市立德南國小(2019)    19  2020-10-12 23:59:47\n",
       "4385038  08BEAC0A0194   臺中市立文昌國小(2019)    20  2020-10-12 23:59:47\n",
       "4385039  08BEAC0A06A8  臺南市市立頂洲國小(2019)    14  2020-10-12 23:59:49\n",
       "4385040  08BEAC09FFEC   臺中市立東寶國小(2019)    20  2020-10-12 23:59:49\n",
       "4385041  08BEAC0A0868  臺南市市立新南國小(2019)    20  2020-10-12 23:59:49\n",
       "\n",
       "[4385042 rows x 4 columns]"
      ]
     },
     "execution_count": 2,
     "metadata": {},
     "output_type": "execute_result"
    }
   ],
   "source": [
    "file=r'C:\\Users\\user\\Desktop\\iis_airbox_202010{}.csv'\n",
    "# file=r'C:\\Users\\student\\Desktop\\iis_airbox_202010{}.csv'\n",
    "res=pd.read_csv(file.format('01'))\n",
    "for i in range(1,13):\n",
    "    tmp_read=pd.read_csv(file.format(str(i).zfill(2)))\n",
    "    res=pd.concat([res,tmp_read],verify_integrity=True,join=\"inner\", ignore_index = True)\n",
    "res    \n"
   ]
  },
  {
   "cell_type": "code",
   "execution_count": 3,
   "metadata": {},
   "outputs": [],
   "source": [
    "taichung_mask=res.SiteName.str.contains('臺中')\n",
    "kaohsiung_mask=res.SiteName.str.contains('高雄')\n",
    "taipei_mask=res.SiteName.str.contains('台北市')\n",
    "taichung_df=res[taichung_mask]\n",
    "kaohsiung_df=res[kaohsiung_mask]\n",
    "taipei_df=res[taipei_mask]"
   ]
  },
  {
   "cell_type": "code",
   "execution_count": 4,
   "metadata": {},
   "outputs": [
    {
     "data": {
      "text/html": [
       "<div>\n",
       "<style scoped>\n",
       "    .dataframe tbody tr th:only-of-type {\n",
       "        vertical-align: middle;\n",
       "    }\n",
       "\n",
       "    .dataframe tbody tr th {\n",
       "        vertical-align: top;\n",
       "    }\n",
       "\n",
       "    .dataframe thead th {\n",
       "        text-align: right;\n",
       "    }\n",
       "</style>\n",
       "<table border=\"1\" class=\"dataframe\">\n",
       "  <thead>\n",
       "    <tr style=\"text-align: right;\">\n",
       "      <th></th>\n",
       "      <th>device_id</th>\n",
       "      <th>SiteName</th>\n",
       "      <th>PM25</th>\n",
       "      <th>timestamp</th>\n",
       "    </tr>\n",
       "  </thead>\n",
       "  <tbody>\n",
       "  </tbody>\n",
       "</table>\n",
       "</div>"
      ],
      "text/plain": [
       "Empty DataFrame\n",
       "Columns: [device_id, SiteName, PM25, timestamp]\n",
       "Index: []"
      ]
     },
     "execution_count": 4,
     "metadata": {},
     "output_type": "execute_result"
    }
   ],
   "source": [
    "# taichung_df[taichung_df[\"PM25\"]>100]\n",
    "taipei_df"
   ]
  },
  {
   "cell_type": "code",
   "execution_count": 5,
   "metadata": {},
   "outputs": [
    {
     "data": {
      "text/html": [
       "<div>\n",
       "<style scoped>\n",
       "    .dataframe tbody tr th:only-of-type {\n",
       "        vertical-align: middle;\n",
       "    }\n",
       "\n",
       "    .dataframe tbody tr th {\n",
       "        vertical-align: top;\n",
       "    }\n",
       "\n",
       "    .dataframe thead th {\n",
       "        text-align: right;\n",
       "    }\n",
       "</style>\n",
       "<table border=\"1\" class=\"dataframe\">\n",
       "  <thead>\n",
       "    <tr style=\"text-align: right;\">\n",
       "      <th></th>\n",
       "      <th>device_id</th>\n",
       "      <th>SiteName</th>\n",
       "      <th>PM25</th>\n",
       "      <th>timestamp</th>\n",
       "      <th>city</th>\n",
       "      <th>day</th>\n",
       "      <th>time</th>\n",
       "    </tr>\n",
       "  </thead>\n",
       "  <tbody>\n",
       "    <tr>\n",
       "      <th>1</th>\n",
       "      <td>08BEAC0A02D8</td>\n",
       "      <td>臺中市立中山國小(2019)</td>\n",
       "      <td>12</td>\n",
       "      <td>2020-10-01 00:00:00</td>\n",
       "      <td>臺中市</td>\n",
       "      <td>2020-10-01</td>\n",
       "      <td>00</td>\n",
       "    </tr>\n",
       "    <tr>\n",
       "      <th>4</th>\n",
       "      <td>08BEAC0A0030</td>\n",
       "      <td>臺中市立潭陽國小(2019)</td>\n",
       "      <td>6</td>\n",
       "      <td>2020-10-01 00:00:01</td>\n",
       "      <td>臺中市</td>\n",
       "      <td>2020-10-01</td>\n",
       "      <td>00</td>\n",
       "    </tr>\n",
       "    <tr>\n",
       "      <th>8</th>\n",
       "      <td>08BEAC09FFE8</td>\n",
       "      <td>臺中市立臺中家商(2019)</td>\n",
       "      <td>7</td>\n",
       "      <td>2020-10-01 00:00:02</td>\n",
       "      <td>臺中市</td>\n",
       "      <td>2020-10-01</td>\n",
       "      <td>00</td>\n",
       "    </tr>\n",
       "    <tr>\n",
       "      <th>12</th>\n",
       "      <td>08BEAC0A008E</td>\n",
       "      <td>臺中市立益民國小(2019)</td>\n",
       "      <td>8</td>\n",
       "      <td>2020-10-01 00:00:03</td>\n",
       "      <td>臺中市</td>\n",
       "      <td>2020-10-01</td>\n",
       "      <td>00</td>\n",
       "    </tr>\n",
       "    <tr>\n",
       "      <th>13</th>\n",
       "      <td>08BEAC09FF42</td>\n",
       "      <td>臺中市立光正國中(2019)</td>\n",
       "      <td>18</td>\n",
       "      <td>2020-10-01 00:00:03</td>\n",
       "      <td>臺中市</td>\n",
       "      <td>2020-10-01</td>\n",
       "      <td>00</td>\n",
       "    </tr>\n",
       "    <tr>\n",
       "      <th>...</th>\n",
       "      <td>...</td>\n",
       "      <td>...</td>\n",
       "      <td>...</td>\n",
       "      <td>...</td>\n",
       "      <td>...</td>\n",
       "      <td>...</td>\n",
       "      <td>...</td>\n",
       "    </tr>\n",
       "    <tr>\n",
       "      <th>4385029</th>\n",
       "      <td>08BEAC0A03F2</td>\n",
       "      <td>臺中市立和平國小(2019)</td>\n",
       "      <td>17</td>\n",
       "      <td>2020-10-12 23:59:44</td>\n",
       "      <td>臺中市</td>\n",
       "      <td>2020-10-12</td>\n",
       "      <td>23</td>\n",
       "    </tr>\n",
       "    <tr>\n",
       "      <th>4385030</th>\n",
       "      <td>08BEAC0A0360</td>\n",
       "      <td>臺中市立何厝國小(2019)</td>\n",
       "      <td>16</td>\n",
       "      <td>2020-10-12 23:59:45</td>\n",
       "      <td>臺中市</td>\n",
       "      <td>2020-10-12</td>\n",
       "      <td>23</td>\n",
       "    </tr>\n",
       "    <tr>\n",
       "      <th>4385032</th>\n",
       "      <td>08BEAC0A009A</td>\n",
       "      <td>臺中市立大甲高工(2019)</td>\n",
       "      <td>13</td>\n",
       "      <td>2020-10-12 23:59:45</td>\n",
       "      <td>臺中市</td>\n",
       "      <td>2020-10-12</td>\n",
       "      <td>23</td>\n",
       "    </tr>\n",
       "    <tr>\n",
       "      <th>4385038</th>\n",
       "      <td>08BEAC0A0194</td>\n",
       "      <td>臺中市立文昌國小(2019)</td>\n",
       "      <td>20</td>\n",
       "      <td>2020-10-12 23:59:47</td>\n",
       "      <td>臺中市</td>\n",
       "      <td>2020-10-12</td>\n",
       "      <td>23</td>\n",
       "    </tr>\n",
       "    <tr>\n",
       "      <th>4385040</th>\n",
       "      <td>08BEAC09FFEC</td>\n",
       "      <td>臺中市立東寶國小(2019)</td>\n",
       "      <td>20</td>\n",
       "      <td>2020-10-12 23:59:49</td>\n",
       "      <td>臺中市</td>\n",
       "      <td>2020-10-12</td>\n",
       "      <td>23</td>\n",
       "    </tr>\n",
       "  </tbody>\n",
       "</table>\n",
       "<p>748973 rows × 7 columns</p>\n",
       "</div>"
      ],
      "text/plain": [
       "            device_id        SiteName  PM25            timestamp city  \\\n",
       "1        08BEAC0A02D8  臺中市立中山國小(2019)    12  2020-10-01 00:00:00  臺中市   \n",
       "4        08BEAC0A0030  臺中市立潭陽國小(2019)     6  2020-10-01 00:00:01  臺中市   \n",
       "8        08BEAC09FFE8  臺中市立臺中家商(2019)     7  2020-10-01 00:00:02  臺中市   \n",
       "12       08BEAC0A008E  臺中市立益民國小(2019)     8  2020-10-01 00:00:03  臺中市   \n",
       "13       08BEAC09FF42  臺中市立光正國中(2019)    18  2020-10-01 00:00:03  臺中市   \n",
       "...               ...             ...   ...                  ...  ...   \n",
       "4385029  08BEAC0A03F2  臺中市立和平國小(2019)    17  2020-10-12 23:59:44  臺中市   \n",
       "4385030  08BEAC0A0360  臺中市立何厝國小(2019)    16  2020-10-12 23:59:45  臺中市   \n",
       "4385032  08BEAC0A009A  臺中市立大甲高工(2019)    13  2020-10-12 23:59:45  臺中市   \n",
       "4385038  08BEAC0A0194  臺中市立文昌國小(2019)    20  2020-10-12 23:59:47  臺中市   \n",
       "4385040  08BEAC09FFEC  臺中市立東寶國小(2019)    20  2020-10-12 23:59:49  臺中市   \n",
       "\n",
       "                day time  \n",
       "1        2020-10-01   00  \n",
       "4        2020-10-01   00  \n",
       "8        2020-10-01   00  \n",
       "12       2020-10-01   00  \n",
       "13       2020-10-01   00  \n",
       "...             ...  ...  \n",
       "4385029  2020-10-12   23  \n",
       "4385030  2020-10-12   23  \n",
       "4385032  2020-10-12   23  \n",
       "4385038  2020-10-12   23  \n",
       "4385040  2020-10-12   23  \n",
       "\n",
       "[748973 rows x 7 columns]"
      ]
     },
     "execution_count": 5,
     "metadata": {},
     "output_type": "execute_result"
    }
   ],
   "source": [
    "pd.set_option('mode.chained_assignment', None)\n",
    "taichung_df['city']=taichung_df['SiteName'].str[0:3]\n",
    "kaohsiung_df['city']=kaohsiung_df['SiteName'].str[0:3]\n",
    "taichung_df['day']=taichung_df['timestamp'].str.split(' ',expand=True)[0]\n",
    "kaohsiung_df['day']=kaohsiung_df['timestamp'].str.split(' ',expand=True)[0]\n",
    "taichung_df['time']=(taichung_df['timestamp'].str.split(':',expand=True)[0]).str.split(' ',expand=True)[1]\n",
    "kaohsiung_df['time']=(kaohsiung_df['timestamp'].str.split(':',expand=True)[0]).str.split(' ',expand=True)[1]\n",
    "# kaohsiung_df\n",
    "taichung_df"
   ]
  },
  {
   "cell_type": "code",
   "execution_count": 6,
   "metadata": {
    "scrolled": true
   },
   "outputs": [],
   "source": [
    "taichung_df[(taichung_df[\"time\"]==\"11\") & (taichung_df[\"PM25\"]>1000)]\n",
    "mask=(taichung_df[\"PM25\"]>1000)\n",
    "taichung_df=taichung_df[~mask]\n",
    "# taichung_df[[\"time\",\"PM25\"]]\n",
    "# kaohsiung_df[[\"time\",\"PM25\"]]"
   ]
  },
  {
   "cell_type": "code",
   "execution_count": 7,
   "metadata": {},
   "outputs": [],
   "source": [
    "avg_taichung_df=taichung_df.groupby(\"time\").mean()"
   ]
  },
  {
   "cell_type": "code",
   "execution_count": 8,
   "metadata": {},
   "outputs": [],
   "source": [
    "avg_kaohsiung_df=kaohsiung_df.groupby(\"time\").mean()"
   ]
  },
  {
   "cell_type": "code",
   "execution_count": 13,
   "metadata": {},
   "outputs": [
    {
     "data": {
      "image/png": "[encoded data removed]",
      "text/plain": [
       "<Figure size 432x288 with 1 Axes>"
      ]
     },
     "metadata": {
      "needs_background": "light"
     },
     "output_type": "display_data"
    },
    {
     "data": {
      "image/png": "[encoded data removed]",
      "text/plain": [
       "<Figure size 432x288 with 1 Axes>"
      ]
     },
     "metadata": {
      "needs_background": "light"
     },
     "output_type": "display_data"
    }
   ],
   "source": [
    "plt.title(\"台中pm25\")\n",
    "plt.ylabel(\"濃度\")\n",
    "\n",
    "# plt.scatter(taichung_df[\"day\"],taichung_df[\"PM25\"])\n",
    "# avg_taichung_df.plot.scatter(x = \"index\", y = 'value')\n",
    "plt.scatter(avg_taichung_df.index,avg_taichung_df)\n",
    "plt.show()\n",
    "plt.title(\"高雄pm25\")\n",
    "plt.ylabel(\"濃度\")\n",
    "\n",
    "# plt.scatter(kaohsiung_df[\"day\"],kaohsiung_df[\"PM25\"])\n",
    "plt.scatter(avg_kaohsiung_df.index,avg_kaohsiung_df)\n",
    "\n",
    "plt.show()"
   ]
  },
  {
   "cell_type": "code",
   "execution_count": 12,
   "metadata": {
    "scrolled": true
   },
   "outputs": [
    {
     "data": {
      "image/png": "[encoded data removed]",
      "text/plain": [
       "<Figure size 432x288 with 1 Axes>"
      ]
     },
     "metadata": {
      "needs_background": "light"
     },
     "output_type": "display_data"
    },
    {
     "data": {
      "image/png": "[encoded data removed]",
      "text/plain": [
       "<Figure size 432x288 with 1 Axes>"
      ]
     },
     "metadata": {
      "needs_background": "light"
     },
     "output_type": "display_data"
    }
   ],
   "source": [
    "plt.title(\"台中pm25\")\n",
    "plt.ylabel(\"濃度\")\n",
    "\n",
    "# fig,ax=plt.subplots()\n",
    "# ax.set_title('pm25')\n",
    "# plt.boxplot([taichung_df[\"PM25\"],kaohsiung_df[\"PM25\"]],['台中','高雄'])\n",
    "plt.boxplot(avg_taichung_df[\"PM25\"])\n",
    "plt.show()\n",
    "plt.title(\"高雄pm25\")\n",
    "plt.ylabel(\"濃度\")\n",
    "plt.boxplot(avg_kaohsiung_df[\"PM25\"])\n",
    "plt.show()\n",
    "# taichung_df[\"PM25\"]"
   ]
  },
  {
   "cell_type": "code",
   "execution_count": 48,
   "metadata": {},
   "outputs": [
    {
     "data": {
      "text/plain": [
       "<matplotlib.axes._subplots.AxesSubplot at 0x2e478ac2370>"
      ]
     },
     "execution_count": 48,
     "metadata": {},
     "output_type": "execute_result"
    },
    {
     "data": {
      "image/png": "[encoded data removed]",
      "text/plain": [
       "<Figure size 432x288 with 1 Axes>"
      ]
     },
     "metadata": {
      "needs_background": "light"
     },
     "output_type": "display_data"
    }
   ],
   "source": [
    "data = pd.concat({'avg_taichung':avg_taichung_df,'avg_kaohsiung':avg_kaohsiung_df},axis=1)\n",
    "# plt.plot(taichung_df[\"timestamp\":\"PM25\"],linestyle='-',linewidth=0.5)\n",
    "# plt.plot(kaohsiung_df[[\"timestamp\",\"PM25\"]],linestyle='-',linewidth=0.5)\n",
    "# data\n",
    "# plt.show()\n",
    "# plt.ylabel(\"濃度\")\n",
    "data\n",
    "data.plot.line()\n",
    "# avg_taichung_df[\"PM25\"].plot(kind=\"line\")\n",
    "# plt.title(\"台中pm25\")\n",
    "\n",
    "# avg_kaohsiung_df[\"PM25\"].plot(kind=\"line\")\n",
    "# plt.title(\"高雄pm25\")\n",
    "# plt.show()\n",
    "\n",
    "# res=pd.merge(taichung_df[[\"day\",\"PM25\"]],kaohsiung_df[[\"day\",\"PM25\"]],on='day',how='outer')"
   ]
  }
 ],
 "metadata": {
  "kernelspec": {
   "display_name": "Python 3",
   "language": "python",
   "name": "python3"
  },
  "language_info": {
   "codemirror_mode": {
    "name": "ipython",
    "version": 3
   },
   "file_extension": ".py",
   "mimetype": "text/x-python",
   "name": "python",
   "nbconvert_exporter": "python",
   "pygments_lexer": "ipython3",
   "version": "3.8.3"
  }
 },
 "nbformat": 4,
 "nbformat_minor": 4
}
