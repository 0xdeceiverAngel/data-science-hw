{
  "nbformat": 4,
  "nbformat_minor": 0,
  "metadata": {
    "colab": {
      "name": "4107053145 #2.ipynb",
      "provenance": []
    },
    "kernelspec": {
      "name": "python3",
      "display_name": "Python 3"
    }
  },
  "cells": [
    {
      "cell_type": "markdown",
      "metadata": {
        "id": "Vf9OXvecPo7t"
      },
      "source": [
        "# (a) (15 分) Investigate the dataset by some appropriate explorative data analysis. Are math, reading, and writing scores correlated with each other?"
      ]
    },
    {
      "cell_type": "code",
      "metadata": {
        "id": "TZjlMazaJrNF"
      },
      "source": [
        "import pandas as pd\r\n",
        "import numpy as np"
      ],
      "execution_count": 157,
      "outputs": []
    },
    {
      "cell_type": "code",
      "metadata": {
        "colab": {
          "base_uri": "https://localhost:8080/",
          "height": 255
        },
        "id": "CvK8swWAMA5S",
        "outputId": "8373e22a-e3fc-4127-d808-e72681b14383"
      },
      "source": [
        "stud_data=pd.read_csv(\"StudentsPerformance.csv\")\r\n",
        "stud_data.head()"
      ],
      "execution_count": 158,
      "outputs": [
        {
          "output_type": "execute_result",
          "data": {
            "text/html": [
              "<div>\n",
              "<style scoped>\n",
              "    .dataframe tbody tr th:only-of-type {\n",
              "        vertical-align: middle;\n",
              "    }\n",
              "\n",
              "    .dataframe tbody tr th {\n",
              "        vertical-align: top;\n",
              "    }\n",
              "\n",
              "    .dataframe thead th {\n",
              "        text-align: right;\n",
              "    }\n",
              "</style>\n",
              "<table border=\"1\" class=\"dataframe\">\n",
              "  <thead>\n",
              "    <tr style=\"text-align: right;\">\n",
              "      <th></th>\n",
              "      <th>gender</th>\n",
              "      <th>race/ethnicity</th>\n",
              "      <th>parental level of education</th>\n",
              "      <th>lunch</th>\n",
              "      <th>test preparation course</th>\n",
              "      <th>math score</th>\n",
              "      <th>reading score</th>\n",
              "      <th>writing score</th>\n",
              "    </tr>\n",
              "  </thead>\n",
              "  <tbody>\n",
              "    <tr>\n",
              "      <th>0</th>\n",
              "      <td>female</td>\n",
              "      <td>group B</td>\n",
              "      <td>bachelor's degree</td>\n",
              "      <td>standard</td>\n",
              "      <td>none</td>\n",
              "      <td>72</td>\n",
              "      <td>72</td>\n",
              "      <td>74</td>\n",
              "    </tr>\n",
              "    <tr>\n",
              "      <th>1</th>\n",
              "      <td>female</td>\n",
              "      <td>group C</td>\n",
              "      <td>some college</td>\n",
              "      <td>standard</td>\n",
              "      <td>completed</td>\n",
              "      <td>69</td>\n",
              "      <td>90</td>\n",
              "      <td>88</td>\n",
              "    </tr>\n",
              "    <tr>\n",
              "      <th>2</th>\n",
              "      <td>female</td>\n",
              "      <td>group B</td>\n",
              "      <td>master's degree</td>\n",
              "      <td>standard</td>\n",
              "      <td>none</td>\n",
              "      <td>90</td>\n",
              "      <td>95</td>\n",
              "      <td>93</td>\n",
              "    </tr>\n",
              "    <tr>\n",
              "      <th>3</th>\n",
              "      <td>male</td>\n",
              "      <td>group A</td>\n",
              "      <td>associate's degree</td>\n",
              "      <td>free/reduced</td>\n",
              "      <td>none</td>\n",
              "      <td>47</td>\n",
              "      <td>57</td>\n",
              "      <td>44</td>\n",
              "    </tr>\n",
              "    <tr>\n",
              "      <th>4</th>\n",
              "      <td>male</td>\n",
              "      <td>group C</td>\n",
              "      <td>some college</td>\n",
              "      <td>standard</td>\n",
              "      <td>none</td>\n",
              "      <td>76</td>\n",
              "      <td>78</td>\n",
              "      <td>75</td>\n",
              "    </tr>\n",
              "  </tbody>\n",
              "</table>\n",
              "</div>"
            ],
            "text/plain": [
              "   gender race/ethnicity  ... reading score writing score\n",
              "0  female        group B  ...            72            74\n",
              "1  female        group C  ...            90            88\n",
              "2  female        group B  ...            95            93\n",
              "3    male        group A  ...            57            44\n",
              "4    male        group C  ...            78            75\n",
              "\n",
              "[5 rows x 8 columns]"
            ]
          },
          "metadata": {
            "tags": []
          },
          "execution_count": 158
        }
      ]
    },
    {
      "cell_type": "code",
      "metadata": {
        "colab": {
          "base_uri": "https://localhost:8080/"
        },
        "id": "9VCP8jhGX8P7",
        "outputId": "f5ba9239-9a93-4120-f06c-3af5aeb3e15f"
      },
      "source": [
        "print('math平均:',stud_data['math score'].mean())\r\n",
        "print('reading平均:',stud_data['reading score'].mean())\r\n",
        "print('writing平均:',stud_data['writing score'].mean())\r\n"
      ],
      "execution_count": 159,
      "outputs": [
        {
          "output_type": "stream",
          "text": [
            "math平均: 66.089\n",
            "reading平均: 69.169\n",
            "writing平均: 68.054\n"
          ],
          "name": "stdout"
        }
      ]
    },
    {
      "cell_type": "code",
      "metadata": {
        "colab": {
          "base_uri": "https://localhost:8080/",
          "height": 266
        },
        "id": "FjG-oo3-1ju7",
        "outputId": "9163e72e-6ee6-4e2b-8ce0-3f7e12a61edf"
      },
      "source": [
        "stud_data.groupby(['parental level of education']).mean()"
      ],
      "execution_count": 160,
      "outputs": [
        {
          "output_type": "execute_result",
          "data": {
            "text/html": [
              "<div>\n",
              "<style scoped>\n",
              "    .dataframe tbody tr th:only-of-type {\n",
              "        vertical-align: middle;\n",
              "    }\n",
              "\n",
              "    .dataframe tbody tr th {\n",
              "        vertical-align: top;\n",
              "    }\n",
              "\n",
              "    .dataframe thead th {\n",
              "        text-align: right;\n",
              "    }\n",
              "</style>\n",
              "<table border=\"1\" class=\"dataframe\">\n",
              "  <thead>\n",
              "    <tr style=\"text-align: right;\">\n",
              "      <th></th>\n",
              "      <th>math score</th>\n",
              "      <th>reading score</th>\n",
              "      <th>writing score</th>\n",
              "    </tr>\n",
              "    <tr>\n",
              "      <th>parental level of education</th>\n",
              "      <th></th>\n",
              "      <th></th>\n",
              "      <th></th>\n",
              "    </tr>\n",
              "  </thead>\n",
              "  <tbody>\n",
              "    <tr>\n",
              "      <th>associate's degree</th>\n",
              "      <td>67.882883</td>\n",
              "      <td>70.927928</td>\n",
              "      <td>69.896396</td>\n",
              "    </tr>\n",
              "    <tr>\n",
              "      <th>bachelor's degree</th>\n",
              "      <td>69.389831</td>\n",
              "      <td>73.000000</td>\n",
              "      <td>73.381356</td>\n",
              "    </tr>\n",
              "    <tr>\n",
              "      <th>high school</th>\n",
              "      <td>62.137755</td>\n",
              "      <td>64.704082</td>\n",
              "      <td>62.448980</td>\n",
              "    </tr>\n",
              "    <tr>\n",
              "      <th>master's degree</th>\n",
              "      <td>69.745763</td>\n",
              "      <td>75.372881</td>\n",
              "      <td>75.677966</td>\n",
              "    </tr>\n",
              "    <tr>\n",
              "      <th>some college</th>\n",
              "      <td>67.128319</td>\n",
              "      <td>69.460177</td>\n",
              "      <td>68.840708</td>\n",
              "    </tr>\n",
              "    <tr>\n",
              "      <th>some high school</th>\n",
              "      <td>63.497207</td>\n",
              "      <td>66.938547</td>\n",
              "      <td>64.888268</td>\n",
              "    </tr>\n",
              "  </tbody>\n",
              "</table>\n",
              "</div>"
            ],
            "text/plain": [
              "                             math score  reading score  writing score\n",
              "parental level of education                                          \n",
              "associate's degree            67.882883      70.927928      69.896396\n",
              "bachelor's degree             69.389831      73.000000      73.381356\n",
              "high school                   62.137755      64.704082      62.448980\n",
              "master's degree               69.745763      75.372881      75.677966\n",
              "some college                  67.128319      69.460177      68.840708\n",
              "some high school              63.497207      66.938547      64.888268"
            ]
          },
          "metadata": {
            "tags": []
          },
          "execution_count": 160
        }
      ]
    },
    {
      "cell_type": "code",
      "metadata": {
        "colab": {
          "base_uri": "https://localhost:8080/",
          "height": 452
        },
        "id": "GJq7XrLp1knw",
        "outputId": "ba05b34b-1e95-4ea8-cab5-b7aa00c8babc"
      },
      "source": [
        "stud_data.groupby(['parental level of education','test preparation course']).mean()"
      ],
      "execution_count": 162,
      "outputs": [
        {
          "output_type": "execute_result",
          "data": {
            "text/html": [
              "<div>\n",
              "<style scoped>\n",
              "    .dataframe tbody tr th:only-of-type {\n",
              "        vertical-align: middle;\n",
              "    }\n",
              "\n",
              "    .dataframe tbody tr th {\n",
              "        vertical-align: top;\n",
              "    }\n",
              "\n",
              "    .dataframe thead th {\n",
              "        text-align: right;\n",
              "    }\n",
              "</style>\n",
              "<table border=\"1\" class=\"dataframe\">\n",
              "  <thead>\n",
              "    <tr style=\"text-align: right;\">\n",
              "      <th></th>\n",
              "      <th></th>\n",
              "      <th>math score</th>\n",
              "      <th>reading score</th>\n",
              "      <th>writing score</th>\n",
              "    </tr>\n",
              "    <tr>\n",
              "      <th>parental level of education</th>\n",
              "      <th>test preparation course</th>\n",
              "      <th></th>\n",
              "      <th></th>\n",
              "      <th></th>\n",
              "    </tr>\n",
              "  </thead>\n",
              "  <tbody>\n",
              "    <tr>\n",
              "      <th rowspan=\"2\" valign=\"top\">associate's degree</th>\n",
              "      <th>completed</th>\n",
              "      <td>71.829268</td>\n",
              "      <td>76.170732</td>\n",
              "      <td>76.817073</td>\n",
              "    </tr>\n",
              "    <tr>\n",
              "      <th>none</th>\n",
              "      <td>65.571429</td>\n",
              "      <td>67.857143</td>\n",
              "      <td>65.842857</td>\n",
              "    </tr>\n",
              "    <tr>\n",
              "      <th rowspan=\"2\" valign=\"top\">bachelor's degree</th>\n",
              "      <th>completed</th>\n",
              "      <td>73.282609</td>\n",
              "      <td>76.739130</td>\n",
              "      <td>78.695652</td>\n",
              "    </tr>\n",
              "    <tr>\n",
              "      <th>none</th>\n",
              "      <td>66.902778</td>\n",
              "      <td>70.611111</td>\n",
              "      <td>69.986111</td>\n",
              "    </tr>\n",
              "    <tr>\n",
              "      <th rowspan=\"2\" valign=\"top\">high school</th>\n",
              "      <th>completed</th>\n",
              "      <td>65.000000</td>\n",
              "      <td>67.839286</td>\n",
              "      <td>68.053571</td>\n",
              "    </tr>\n",
              "    <tr>\n",
              "      <th>none</th>\n",
              "      <td>60.992857</td>\n",
              "      <td>63.450000</td>\n",
              "      <td>60.207143</td>\n",
              "    </tr>\n",
              "    <tr>\n",
              "      <th rowspan=\"2\" valign=\"top\">master's degree</th>\n",
              "      <th>completed</th>\n",
              "      <td>70.600000</td>\n",
              "      <td>78.250000</td>\n",
              "      <td>80.100000</td>\n",
              "    </tr>\n",
              "    <tr>\n",
              "      <th>none</th>\n",
              "      <td>69.307692</td>\n",
              "      <td>73.897436</td>\n",
              "      <td>73.410256</td>\n",
              "    </tr>\n",
              "    <tr>\n",
              "      <th rowspan=\"2\" valign=\"top\">some college</th>\n",
              "      <th>completed</th>\n",
              "      <td>71.454545</td>\n",
              "      <td>75.987013</td>\n",
              "      <td>76.519481</td>\n",
              "    </tr>\n",
              "    <tr>\n",
              "      <th>none</th>\n",
              "      <td>64.892617</td>\n",
              "      <td>66.087248</td>\n",
              "      <td>64.872483</td>\n",
              "    </tr>\n",
              "    <tr>\n",
              "      <th rowspan=\"2\" valign=\"top\">some high school</th>\n",
              "      <th>completed</th>\n",
              "      <td>66.701299</td>\n",
              "      <td>70.948052</td>\n",
              "      <td>70.363636</td>\n",
              "    </tr>\n",
              "    <tr>\n",
              "      <th>none</th>\n",
              "      <td>61.078431</td>\n",
              "      <td>63.911765</td>\n",
              "      <td>60.754902</td>\n",
              "    </tr>\n",
              "  </tbody>\n",
              "</table>\n",
              "</div>"
            ],
            "text/plain": [
              "                                                     math score  ...  writing score\n",
              "parental level of education test preparation course              ...               \n",
              "associate's degree          completed                 71.829268  ...      76.817073\n",
              "                            none                      65.571429  ...      65.842857\n",
              "bachelor's degree           completed                 73.282609  ...      78.695652\n",
              "                            none                      66.902778  ...      69.986111\n",
              "high school                 completed                 65.000000  ...      68.053571\n",
              "                            none                      60.992857  ...      60.207143\n",
              "master's degree             completed                 70.600000  ...      80.100000\n",
              "                            none                      69.307692  ...      73.410256\n",
              "some college                completed                 71.454545  ...      76.519481\n",
              "                            none                      64.892617  ...      64.872483\n",
              "some high school            completed                 66.701299  ...      70.363636\n",
              "                            none                      61.078431  ...      60.754902\n",
              "\n",
              "[12 rows x 3 columns]"
            ]
          },
          "metadata": {
            "tags": []
          },
          "execution_count": 162
        }
      ]
    },
    {
      "cell_type": "code",
      "metadata": {
        "colab": {
          "base_uri": "https://localhost:8080/",
          "height": 390
        },
        "id": "IxUuySc24nYo",
        "outputId": "9fa8b9a0-2546-4574-a27e-f558644be30d"
      },
      "source": [
        "stud_data.groupby(['race/ethnicity','test preparation course']).mean()"
      ],
      "execution_count": 163,
      "outputs": [
        {
          "output_type": "execute_result",
          "data": {
            "text/html": [
              "<div>\n",
              "<style scoped>\n",
              "    .dataframe tbody tr th:only-of-type {\n",
              "        vertical-align: middle;\n",
              "    }\n",
              "\n",
              "    .dataframe tbody tr th {\n",
              "        vertical-align: top;\n",
              "    }\n",
              "\n",
              "    .dataframe thead th {\n",
              "        text-align: right;\n",
              "    }\n",
              "</style>\n",
              "<table border=\"1\" class=\"dataframe\">\n",
              "  <thead>\n",
              "    <tr style=\"text-align: right;\">\n",
              "      <th></th>\n",
              "      <th></th>\n",
              "      <th>math score</th>\n",
              "      <th>reading score</th>\n",
              "      <th>writing score</th>\n",
              "    </tr>\n",
              "    <tr>\n",
              "      <th>race/ethnicity</th>\n",
              "      <th>test preparation course</th>\n",
              "      <th></th>\n",
              "      <th></th>\n",
              "      <th></th>\n",
              "    </tr>\n",
              "  </thead>\n",
              "  <tbody>\n",
              "    <tr>\n",
              "      <th rowspan=\"2\" valign=\"top\">group A</th>\n",
              "      <th>completed</th>\n",
              "      <td>68.258065</td>\n",
              "      <td>71.032258</td>\n",
              "      <td>70.903226</td>\n",
              "    </tr>\n",
              "    <tr>\n",
              "      <th>none</th>\n",
              "      <td>58.086207</td>\n",
              "      <td>61.275862</td>\n",
              "      <td>58.275862</td>\n",
              "    </tr>\n",
              "    <tr>\n",
              "      <th rowspan=\"2\" valign=\"top\">group B</th>\n",
              "      <th>completed</th>\n",
              "      <td>67.191176</td>\n",
              "      <td>72.852941</td>\n",
              "      <td>71.882353</td>\n",
              "    </tr>\n",
              "    <tr>\n",
              "      <th>none</th>\n",
              "      <td>61.368852</td>\n",
              "      <td>64.286885</td>\n",
              "      <td>62.098361</td>\n",
              "    </tr>\n",
              "    <tr>\n",
              "      <th rowspan=\"2\" valign=\"top\">group C</th>\n",
              "      <th>completed</th>\n",
              "      <td>67.495726</td>\n",
              "      <td>73.658120</td>\n",
              "      <td>74.452991</td>\n",
              "    </tr>\n",
              "    <tr>\n",
              "      <th>none</th>\n",
              "      <td>62.707921</td>\n",
              "      <td>66.465347</td>\n",
              "      <td>63.990099</td>\n",
              "    </tr>\n",
              "    <tr>\n",
              "      <th rowspan=\"2\" valign=\"top\">group D</th>\n",
              "      <th>completed</th>\n",
              "      <td>69.792683</td>\n",
              "      <td>74.146341</td>\n",
              "      <td>76.658537</td>\n",
              "    </tr>\n",
              "    <tr>\n",
              "      <th>none</th>\n",
              "      <td>66.255556</td>\n",
              "      <td>68.155556</td>\n",
              "      <td>67.177778</td>\n",
              "    </tr>\n",
              "    <tr>\n",
              "      <th rowspan=\"2\" valign=\"top\">group E</th>\n",
              "      <th>completed</th>\n",
              "      <td>77.433333</td>\n",
              "      <td>76.666667</td>\n",
              "      <td>75.983333</td>\n",
              "    </tr>\n",
              "    <tr>\n",
              "      <th>none</th>\n",
              "      <td>71.112500</td>\n",
              "      <td>70.300000</td>\n",
              "      <td>67.975000</td>\n",
              "    </tr>\n",
              "  </tbody>\n",
              "</table>\n",
              "</div>"
            ],
            "text/plain": [
              "                                        math score  ...  writing score\n",
              "race/ethnicity test preparation course              ...               \n",
              "group A        completed                 68.258065  ...      70.903226\n",
              "               none                      58.086207  ...      58.275862\n",
              "group B        completed                 67.191176  ...      71.882353\n",
              "               none                      61.368852  ...      62.098361\n",
              "group C        completed                 67.495726  ...      74.452991\n",
              "               none                      62.707921  ...      63.990099\n",
              "group D        completed                 69.792683  ...      76.658537\n",
              "               none                      66.255556  ...      67.177778\n",
              "group E        completed                 77.433333  ...      75.983333\n",
              "               none                      71.112500  ...      67.975000\n",
              "\n",
              "[10 rows x 3 columns]"
            ]
          },
          "metadata": {
            "tags": []
          },
          "execution_count": 163
        }
      ]
    },
    {
      "cell_type": "code",
      "metadata": {
        "colab": {
          "base_uri": "https://localhost:8080/",
          "height": 204
        },
        "id": "Aq6qlTZi5Dfx",
        "outputId": "d38bd6fb-8afc-4361-a975-4cf9f17cdcfd"
      },
      "source": [
        "stud_data.groupby(['lunch','test preparation course']).mean()\r\n"
      ],
      "execution_count": 164,
      "outputs": [
        {
          "output_type": "execute_result",
          "data": {
            "text/html": [
              "<div>\n",
              "<style scoped>\n",
              "    .dataframe tbody tr th:only-of-type {\n",
              "        vertical-align: middle;\n",
              "    }\n",
              "\n",
              "    .dataframe tbody tr th {\n",
              "        vertical-align: top;\n",
              "    }\n",
              "\n",
              "    .dataframe thead th {\n",
              "        text-align: right;\n",
              "    }\n",
              "</style>\n",
              "<table border=\"1\" class=\"dataframe\">\n",
              "  <thead>\n",
              "    <tr style=\"text-align: right;\">\n",
              "      <th></th>\n",
              "      <th></th>\n",
              "      <th>math score</th>\n",
              "      <th>reading score</th>\n",
              "      <th>writing score</th>\n",
              "    </tr>\n",
              "    <tr>\n",
              "      <th>lunch</th>\n",
              "      <th>test preparation course</th>\n",
              "      <th></th>\n",
              "      <th></th>\n",
              "      <th></th>\n",
              "    </tr>\n",
              "  </thead>\n",
              "  <tbody>\n",
              "    <tr>\n",
              "      <th rowspan=\"2\" valign=\"top\">free/reduced</th>\n",
              "      <th>completed</th>\n",
              "      <td>63.045802</td>\n",
              "      <td>69.870229</td>\n",
              "      <td>70.351145</td>\n",
              "    </tr>\n",
              "    <tr>\n",
              "      <th>none</th>\n",
              "      <td>56.508929</td>\n",
              "      <td>61.602679</td>\n",
              "      <td>58.736607</td>\n",
              "    </tr>\n",
              "    <tr>\n",
              "      <th rowspan=\"2\" valign=\"top\">standard</th>\n",
              "      <th>completed</th>\n",
              "      <td>73.533040</td>\n",
              "      <td>76.215859</td>\n",
              "      <td>76.766520</td>\n",
              "    </tr>\n",
              "    <tr>\n",
              "      <th>none</th>\n",
              "      <td>68.133971</td>\n",
              "      <td>69.177033</td>\n",
              "      <td>67.595694</td>\n",
              "    </tr>\n",
              "  </tbody>\n",
              "</table>\n",
              "</div>"
            ],
            "text/plain": [
              "                                      math score  reading score  writing score\n",
              "lunch        test preparation course                                          \n",
              "free/reduced completed                 63.045802      69.870229      70.351145\n",
              "             none                      56.508929      61.602679      58.736607\n",
              "standard     completed                 73.533040      76.215859      76.766520\n",
              "             none                      68.133971      69.177033      67.595694"
            ]
          },
          "metadata": {
            "tags": []
          },
          "execution_count": 164
        }
      ]
    },
    {
      "cell_type": "code",
      "metadata": {
        "colab": {
          "base_uri": "https://localhost:8080/",
          "height": 204
        },
        "id": "LzmsdjUY5OYj",
        "outputId": "d6ce75d8-33e0-47de-a2b2-a72a90d41c85"
      },
      "source": [
        "stud_data.groupby(['gender','test preparation course']).mean()\r\n"
      ],
      "execution_count": 165,
      "outputs": [
        {
          "output_type": "execute_result",
          "data": {
            "text/html": [
              "<div>\n",
              "<style scoped>\n",
              "    .dataframe tbody tr th:only-of-type {\n",
              "        vertical-align: middle;\n",
              "    }\n",
              "\n",
              "    .dataframe tbody tr th {\n",
              "        vertical-align: top;\n",
              "    }\n",
              "\n",
              "    .dataframe thead th {\n",
              "        text-align: right;\n",
              "    }\n",
              "</style>\n",
              "<table border=\"1\" class=\"dataframe\">\n",
              "  <thead>\n",
              "    <tr style=\"text-align: right;\">\n",
              "      <th></th>\n",
              "      <th></th>\n",
              "      <th>math score</th>\n",
              "      <th>reading score</th>\n",
              "      <th>writing score</th>\n",
              "    </tr>\n",
              "    <tr>\n",
              "      <th>gender</th>\n",
              "      <th>test preparation course</th>\n",
              "      <th></th>\n",
              "      <th></th>\n",
              "      <th></th>\n",
              "    </tr>\n",
              "  </thead>\n",
              "  <tbody>\n",
              "    <tr>\n",
              "      <th rowspan=\"2\" valign=\"top\">female</th>\n",
              "      <th>completed</th>\n",
              "      <td>67.195652</td>\n",
              "      <td>77.375000</td>\n",
              "      <td>78.793478</td>\n",
              "    </tr>\n",
              "    <tr>\n",
              "      <th>none</th>\n",
              "      <td>61.670659</td>\n",
              "      <td>69.982036</td>\n",
              "      <td>68.982036</td>\n",
              "    </tr>\n",
              "    <tr>\n",
              "      <th rowspan=\"2\" valign=\"top\">male</th>\n",
              "      <th>completed</th>\n",
              "      <td>72.339080</td>\n",
              "      <td>70.212644</td>\n",
              "      <td>69.793103</td>\n",
              "    </tr>\n",
              "    <tr>\n",
              "      <th>none</th>\n",
              "      <td>66.688312</td>\n",
              "      <td>62.795455</td>\n",
              "      <td>59.649351</td>\n",
              "    </tr>\n",
              "  </tbody>\n",
              "</table>\n",
              "</div>"
            ],
            "text/plain": [
              "                                math score  reading score  writing score\n",
              "gender test preparation course                                          \n",
              "female completed                 67.195652      77.375000      78.793478\n",
              "       none                      61.670659      69.982036      68.982036\n",
              "male   completed                 72.339080      70.212644      69.793103\n",
              "       none                      66.688312      62.795455      59.649351"
            ]
          },
          "metadata": {
            "tags": []
          },
          "execution_count": 165
        }
      ]
    },
    {
      "cell_type": "code",
      "metadata": {
        "colab": {
          "base_uri": "https://localhost:8080/",
          "height": 518
        },
        "id": "hdTjQUV75WWC",
        "outputId": "27e14a60-c523-4489-a635-89cf91cecc5d"
      },
      "source": [
        "stud_data.groupby(['gender','race/ethnicity','parental level of education','lunch','test preparation course']).mean()\r\n"
      ],
      "execution_count": 166,
      "outputs": [
        {
          "output_type": "execute_result",
          "data": {
            "text/html": [
              "<div>\n",
              "<style scoped>\n",
              "    .dataframe tbody tr th:only-of-type {\n",
              "        vertical-align: middle;\n",
              "    }\n",
              "\n",
              "    .dataframe tbody tr th {\n",
              "        vertical-align: top;\n",
              "    }\n",
              "\n",
              "    .dataframe thead th {\n",
              "        text-align: right;\n",
              "    }\n",
              "</style>\n",
              "<table border=\"1\" class=\"dataframe\">\n",
              "  <thead>\n",
              "    <tr style=\"text-align: right;\">\n",
              "      <th></th>\n",
              "      <th></th>\n",
              "      <th></th>\n",
              "      <th></th>\n",
              "      <th></th>\n",
              "      <th>math score</th>\n",
              "      <th>reading score</th>\n",
              "      <th>writing score</th>\n",
              "    </tr>\n",
              "    <tr>\n",
              "      <th>gender</th>\n",
              "      <th>race/ethnicity</th>\n",
              "      <th>parental level of education</th>\n",
              "      <th>lunch</th>\n",
              "      <th>test preparation course</th>\n",
              "      <th></th>\n",
              "      <th></th>\n",
              "      <th></th>\n",
              "    </tr>\n",
              "  </thead>\n",
              "  <tbody>\n",
              "    <tr>\n",
              "      <th rowspan=\"5\" valign=\"top\">female</th>\n",
              "      <th rowspan=\"5\" valign=\"top\">group A</th>\n",
              "      <th rowspan=\"3\" valign=\"top\">associate's degree</th>\n",
              "      <th>free/reduced</th>\n",
              "      <th>none</th>\n",
              "      <td>47.666667</td>\n",
              "      <td>64.333333</td>\n",
              "      <td>60.000000</td>\n",
              "    </tr>\n",
              "    <tr>\n",
              "      <th rowspan=\"2\" valign=\"top\">standard</th>\n",
              "      <th>completed</th>\n",
              "      <td>60.000000</td>\n",
              "      <td>67.500000</td>\n",
              "      <td>68.000000</td>\n",
              "    </tr>\n",
              "    <tr>\n",
              "      <th>none</th>\n",
              "      <td>82.000000</td>\n",
              "      <td>93.000000</td>\n",
              "      <td>93.000000</td>\n",
              "    </tr>\n",
              "    <tr>\n",
              "      <th>bachelor's degree</th>\n",
              "      <th>standard</th>\n",
              "      <th>none</th>\n",
              "      <td>51.666667</td>\n",
              "      <td>60.000000</td>\n",
              "      <td>61.666667</td>\n",
              "    </tr>\n",
              "    <tr>\n",
              "      <th>high school</th>\n",
              "      <th>free/reduced</th>\n",
              "      <th>completed</th>\n",
              "      <td>54.666667</td>\n",
              "      <td>62.000000</td>\n",
              "      <td>62.000000</td>\n",
              "    </tr>\n",
              "    <tr>\n",
              "      <th>...</th>\n",
              "      <th>...</th>\n",
              "      <th>...</th>\n",
              "      <th>...</th>\n",
              "      <th>...</th>\n",
              "      <td>...</td>\n",
              "      <td>...</td>\n",
              "      <td>...</td>\n",
              "    </tr>\n",
              "    <tr>\n",
              "      <th rowspan=\"5\" valign=\"top\">male</th>\n",
              "      <th rowspan=\"5\" valign=\"top\">group E</th>\n",
              "      <th rowspan=\"2\" valign=\"top\">some college</th>\n",
              "      <th rowspan=\"2\" valign=\"top\">standard</th>\n",
              "      <th>completed</th>\n",
              "      <td>87.250000</td>\n",
              "      <td>79.750000</td>\n",
              "      <td>74.500000</td>\n",
              "    </tr>\n",
              "    <tr>\n",
              "      <th>none</th>\n",
              "      <td>73.750000</td>\n",
              "      <td>67.750000</td>\n",
              "      <td>63.333333</td>\n",
              "    </tr>\n",
              "    <tr>\n",
              "      <th rowspan=\"3\" valign=\"top\">some high school</th>\n",
              "      <th>free/reduced</th>\n",
              "      <th>completed</th>\n",
              "      <td>75.500000</td>\n",
              "      <td>75.000000</td>\n",
              "      <td>69.500000</td>\n",
              "    </tr>\n",
              "    <tr>\n",
              "      <th rowspan=\"2\" valign=\"top\">standard</th>\n",
              "      <th>completed</th>\n",
              "      <td>79.333333</td>\n",
              "      <td>72.333333</td>\n",
              "      <td>70.500000</td>\n",
              "    </tr>\n",
              "    <tr>\n",
              "      <th>none</th>\n",
              "      <td>74.500000</td>\n",
              "      <td>67.000000</td>\n",
              "      <td>59.750000</td>\n",
              "    </tr>\n",
              "  </tbody>\n",
              "</table>\n",
              "<p>211 rows × 3 columns</p>\n",
              "</div>"
            ],
            "text/plain": [
              "                                                                                        math score  ...  writing score\n",
              "gender race/ethnicity parental level of education lunch        test preparation course              ...               \n",
              "female group A        associate's degree          free/reduced none                      47.666667  ...      60.000000\n",
              "                                                  standard     completed                 60.000000  ...      68.000000\n",
              "                                                               none                      82.000000  ...      93.000000\n",
              "                      bachelor's degree           standard     none                      51.666667  ...      61.666667\n",
              "                      high school                 free/reduced completed                 54.666667  ...      62.000000\n",
              "...                                                                                            ...  ...            ...\n",
              "male   group E        some college                standard     completed                 87.250000  ...      74.500000\n",
              "                                                               none                      73.750000  ...      63.333333\n",
              "                      some high school            free/reduced completed                 75.500000  ...      69.500000\n",
              "                                                  standard     completed                 79.333333  ...      70.500000\n",
              "                                                               none                      74.500000  ...      59.750000\n",
              "\n",
              "[211 rows x 3 columns]"
            ]
          },
          "metadata": {
            "tags": []
          },
          "execution_count": 166
        }
      ]
    },
    {
      "cell_type": "markdown",
      "metadata": {
        "id": "t-0VbeVHP-Dr"
      },
      "source": [
        "#  (15 分) Develop a regression model to predict their math, reading, and writing scores by the other variables. Evaluate your regression model by 10-fold crossvalidation. Notice that most of the predictors are categorical.\r\n"
      ]
    },
    {
      "cell_type": "code",
      "metadata": {
        "colab": {
          "base_uri": "https://localhost:8080/"
        },
        "id": "a7W_W8cUQQJX",
        "outputId": "69330f53-55eb-4bb9-a8d4-0bc4a4acb1fa"
      },
      "source": [
        "# !pip install sklearn\r\n",
        "from IPython.display import clear_output\r\n",
        "import pandas as pd\r\n",
        "import tensorflow as tf\r\n",
        "print(tf.__version__)\r\n",
        "from tensorflow.keras import regularizers\r\n",
        "from tensorflow import keras\r\n",
        "from tensorflow.keras import layers\r\n",
        "from tensorflow.keras.losses import SparseCategoricalCrossentropy\r\n",
        "from tensorflow.keras.losses import *\r\n",
        "from tensorflow.keras.metrics import *\r\n",
        "import matplotlib.pyplot as plt\r\n",
        "import numpy as np\r\n",
        "from sklearn.datasets import load_diabetes\r\n",
        "from sklearn.model_selection import RepeatedStratifiedKFold\r\n",
        "from sklearn.linear_model import LogisticRegression\r\n",
        "from sklearn.model_selection import cross_val_score\r\n",
        "from sklearn.model_selection import KFold\r\n",
        "# from sklearn.model_selection import cross_validate\r\n",
        "from sklearn.metrics import *\r\n",
        "from sklearn.preprocessing import LabelEncoder"
      ],
      "execution_count": 143,
      "outputs": [
        {
          "output_type": "stream",
          "text": [
            "2.4.0\n"
          ],
          "name": "stdout"
        }
      ]
    },
    {
      "cell_type": "code",
      "metadata": {
        "colab": {
          "base_uri": "https://localhost:8080/",
          "height": 69
        },
        "id": "Ni_cTaH5REIz",
        "outputId": "03bd83ad-8959-4460-fa9b-514153d3f86e"
      },
      "source": [
        "stud_data=pd.read_csv(\"StudentsPerformance.csv\")\r\n",
        "stud_data.head()\r\n",
        "labelencoder = LabelEncoder()\r\n",
        "stud_data['gender'] = labelencoder.fit_transform(stud_data['gender'])\r\n",
        "stud_data['race/ethnicity'] = labelencoder.fit_transform(stud_data['race/ethnicity'])\r\n",
        "stud_data['parental level of education'] = labelencoder.fit_transform(stud_data['parental level of education'])\r\n",
        "stud_data['lunch'] = labelencoder.fit_transform(stud_data['lunch'])\r\n",
        "stud_data['test preparation course'] = labelencoder.fit_transform(stud_data['test preparation course'])\r\n",
        "stud_data.head()\r\n",
        "'''\r\n",
        "female=0\r\n",
        "male=1\r\n",
        "\r\n",
        "group B=1\r\n",
        "group C=2\r\n",
        "group A=2\r\n",
        "\r\n",
        "bachelor's degree=1\r\n",
        "some college=4\r\n",
        "master's degree=3\r\n",
        "associate's degree=0\r\n",
        "high school=2\r\n",
        "\r\n",
        "standard=1\r\n",
        "free/reduced=0\r\n",
        "\r\n",
        "none=1\r\n",
        "completed=0\r\n",
        "'''"
      ],
      "execution_count": 144,
      "outputs": [
        {
          "output_type": "execute_result",
          "data": {
            "application/vnd.google.colaboratory.intrinsic+json": {
              "type": "string"
            },
            "text/plain": [
              "\"\\nfemale=0\\nmale=1\\n\\ngroup B=1\\ngroup C=2\\ngroup A=2\\n\\nbachelor's degree=1\\nsome college=4\\nmaster's degree=3\\nassociate's degree=0\\nhigh school=2\\n\\nstandard=1\\nfree/reduced=0\\n\\nnone=1\\ncompleted=0\\n\""
            ]
          },
          "metadata": {
            "tags": []
          },
          "execution_count": 144
        }
      ]
    },
    {
      "cell_type": "code",
      "metadata": {
        "colab": {
          "base_uri": "https://localhost:8080/"
        },
        "id": "9VJGV4apPoEc",
        "outputId": "13815624-829f-4ef7-dc9a-488594639440"
      },
      "source": [
        "x=stud_data['math score'].to_numpy()\r\n",
        "y=stud_data['reading score'].to_numpy()\r\n",
        "z=stud_data['writing score'].to_numpy()\r\n",
        "data_x=stud_data.drop(columns=['math score','reading score','writing score']).to_numpy()\r\n",
        "data_y=np.array([x,y,z]).T\r\n",
        "len(data_x)\r\n",
        "# data_y"
      ],
      "execution_count": 145,
      "outputs": [
        {
          "output_type": "execute_result",
          "data": {
            "text/plain": [
              "1000"
            ]
          },
          "metadata": {
            "tags": []
          },
          "execution_count": 145
        }
      ]
    },
    {
      "cell_type": "code",
      "metadata": {
        "colab": {
          "base_uri": "https://localhost:8080/"
        },
        "id": "ON1_Ri_aQUFM",
        "outputId": "6ee0a403-ccc0-4afe-e09e-36cf1e9feec7"
      },
      "source": [
        "#define model\r\n",
        "x = keras.Input(shape=(5,))\r\n",
        "h1 = layers.Dense(64, activation='relu')(x)\r\n",
        "h2 = layers.Dense(64, activation='relu')(h1)\r\n",
        "h3 = layers.Dense(32, activation='relu')(h2)\r\n",
        "outputs = layers.Dense(3)(h3)\r\n",
        "nn_model = keras.Model(inputs=x, outputs=outputs,name='nn_network')\r\n",
        "nn_model.summary()\r\n",
        "nn_model.compile(optimizer='adam',loss=\"huber\",metrics=['mse','mae'])"
      ],
      "execution_count": 146,
      "outputs": [
        {
          "output_type": "stream",
          "text": [
            "Model: \"nn_network\"\n",
            "_________________________________________________________________\n",
            "Layer (type)                 Output Shape              Param #   \n",
            "=================================================================\n",
            "input_13 (InputLayer)        [(None, 5)]               0         \n",
            "_________________________________________________________________\n",
            "dense_48 (Dense)             (None, 64)                384       \n",
            "_________________________________________________________________\n",
            "dense_49 (Dense)             (None, 64)                4160      \n",
            "_________________________________________________________________\n",
            "dense_50 (Dense)             (None, 32)                2080      \n",
            "_________________________________________________________________\n",
            "dense_51 (Dense)             (None, 3)                 99        \n",
            "=================================================================\n",
            "Total params: 6,723\n",
            "Trainable params: 6,723\n",
            "Non-trainable params: 0\n",
            "_________________________________________________________________\n"
          ],
          "name": "stdout"
        }
      ]
    },
    {
      "cell_type": "code",
      "metadata": {
        "colab": {
          "base_uri": "https://localhost:8080/"
        },
        "id": "eSw-fTKWUL-L",
        "outputId": "8a91cca9-c65c-4d39-a4ff-039d2359bad9"
      },
      "source": [
        "kf=KFold(n_splits=10,shuffle=True)\r\n",
        "loss_sum=0\r\n",
        "mse_sum=0\r\n",
        "mae_sum=0\r\n",
        "res=[]\r\n",
        "for train_index,test_index in kf.split(data_x):\r\n",
        "    x_train,x_test=data_x[train_index],data_x[test_index]\r\n",
        "    y_train,y_test=data_y[train_index],data_y[test_index]\r\n",
        "    history = nn_model.fit(x_train,y_train,\r\n",
        "              batch_size=200, epochs=100, verbose=0,validation_data=(x_test,y_test))\r\n",
        "    lo,mse,mae=nn_model.evaluate(x_test,y_test)\r\n",
        "    loss_sum+=lo\r\n",
        "    mse_sum+=mse\r\n",
        "    mae_sum+=mae\r\n",
        "    res.append(history)\r\n"
      ],
      "execution_count": 147,
      "outputs": [
        {
          "output_type": "stream",
          "text": [
            "4/4 [==============================] - 0s 4ms/step - loss: 10.7762 - mse: 195.7567 - mae: 11.2628\n",
            "4/4 [==============================] - 0s 3ms/step - loss: 9.3494 - mse: 145.4002 - mae: 9.8392\n",
            "4/4 [==============================] - 0s 3ms/step - loss: 10.7950 - mse: 187.7732 - mae: 11.2915\n",
            "4/4 [==============================] - 0s 3ms/step - loss: 10.3634 - mse: 176.5718 - mae: 10.8548\n",
            "4/4 [==============================] - 0s 3ms/step - loss: 9.3554 - mse: 160.8729 - mae: 9.8378\n",
            "4/4 [==============================] - 0s 2ms/step - loss: 10.3171 - mse: 196.3654 - mae: 10.8099\n",
            "4/4 [==============================] - 0s 3ms/step - loss: 9.9662 - mse: 161.4746 - mae: 10.4552\n",
            "4/4 [==============================] - 0s 3ms/step - loss: 8.9384 - mse: 157.4647 - mae: 9.4272\n",
            "4/4 [==============================] - 0s 3ms/step - loss: 10.8202 - mse: 200.3430 - mae: 11.3040\n",
            "4/4 [==============================] - 0s 3ms/step - loss: 10.3433 - mse: 184.9361 - mae: 10.8347\n"
          ],
          "name": "stdout"
        }
      ]
    },
    {
      "cell_type": "code",
      "metadata": {
        "colab": {
          "base_uri": "https://localhost:8080/"
        },
        "id": "H0MffbiFZpXe",
        "outputId": "20da830d-a2bb-45e0-9c6f-f72ae7d6eb35"
      },
      "source": [
        "print(loss_sum/10,mse_sum/10,mae_sum/10)"
      ],
      "execution_count": 148,
      "outputs": [
        {
          "output_type": "stream",
          "text": [
            "10.102465724945068 176.69586791992188 10.591700077056885\n"
          ],
          "name": "stdout"
        }
      ]
    },
    {
      "cell_type": "code",
      "metadata": {
        "colab": {
          "base_uri": "https://localhost:8080/",
          "height": 290
        },
        "id": "B1B-HEiFWdv1",
        "outputId": "a417e515-cd4e-492f-bdf7-a0c5d1a38258"
      },
      "source": [
        "loss_pic=np.array([])\r\n",
        "mae_pic=np.array([])\r\n",
        "mse_pic=np.array([])\r\n",
        "val_pic=np.array([])\r\n",
        "plt.title(\"Loss compare\",fontsize=25,)\r\n",
        "for i in res:\r\n",
        "    loss_pic=np.append(loss_pic,np.array(i.history['loss']))\r\n",
        "plt.plot(loss_pic)\r\n",
        "for i in res:\r\n",
        "    val_pic=np.append(val_pic,np.array(i.history['val_loss']))\r\n",
        "ep=range(1,len(loss_pic)+1)\r\n",
        "plt.plot(ep,loss_pic,\"red\",label=\"training loss\")\r\n",
        "plt.plot(ep,val_pic,\"orange\",label=\"val loss\")\r\n",
        "plt.legend()\r\n",
        "plt.show()"
      ],
      "execution_count": 149,
      "outputs": [
        {
          "output_type": "display_data",
          "data": {
            "image/png": "[encoded data removed]",
            "text/plain": [
              "<Figure size 432x288 with 1 Axes>"
            ]
          },
          "metadata": {
            "tags": [],
            "needs_background": "light"
          }
        }
      ]
    },
    {
      "cell_type": "code",
      "metadata": {
        "colab": {
          "base_uri": "https://localhost:8080/",
          "height": 307
        },
        "id": "iRYADLdkj9Cv",
        "outputId": "7fa1f44d-60f2-46a0-d541-445532d369cc"
      },
      "source": [
        "plt.title(\"mae\",fontsize=25,)\r\n",
        "for i in tmp:\r\n",
        "    mae_pic=np.append(mae_pic,np.array(i.history['mae']))\r\n",
        "plt.plot(mae_pic)"
      ],
      "execution_count": 150,
      "outputs": [
        {
          "output_type": "execute_result",
          "data": {
            "text/plain": [
              "[<matplotlib.lines.Line2D at 0x7fdb32f364e0>]"
            ]
          },
          "metadata": {
            "tags": []
          },
          "execution_count": 150
        },
        {
          "output_type": "display_data",
          "data": {
            "image/png": "[encoded data removed]",
            "text/plain": [
              "<Figure size 432x288 with 1 Axes>"
            ]
          },
          "metadata": {
            "tags": [],
            "needs_background": "light"
          }
        }
      ]
    },
    {
      "cell_type": "code",
      "metadata": {
        "colab": {
          "base_uri": "https://localhost:8080/",
          "height": 307
        },
        "id": "c5YrmECckKIF",
        "outputId": "3abf3931-d814-426a-fecb-4b4d53439109"
      },
      "source": [
        "plt.title(\"mse\",fontsize=25,)\r\n",
        "for i in tmp:\r\n",
        "    mse_pic=np.append(mse_pic,np.array(i.history['mse']))\r\n",
        "plt.plot(mse_pic)"
      ],
      "execution_count": 151,
      "outputs": [
        {
          "output_type": "execute_result",
          "data": {
            "text/plain": [
              "[<matplotlib.lines.Line2D at 0x7fdb2fe2e198>]"
            ]
          },
          "metadata": {
            "tags": []
          },
          "execution_count": 151
        },
        {
          "output_type": "display_data",
          "data": {
            "image/png": "[encoded data removed]",
            "text/plain": [
              "<Figure size 432x288 with 1 Axes>"
            ]
          },
          "metadata": {
            "tags": [],
            "needs_background": "light"
          }
        }
      ]
    },
    {
      "cell_type": "markdown",
      "metadata": {
        "id": "BHLlF-zfWhV8"
      },
      "source": [
        "# Does your model underfit or overfit? Explain why.\r\n"
      ]
    },
    {
      "cell_type": "markdown",
      "metadata": {
        "id": "DYOcCUW_WmAx"
      },
      "source": [
        "oerfit,看loss compare那張圖\r\n",
        "\r\n",
        "因為驗證時的loss跟訓練時的loss 幾乎是黏在一起\r\n"
      ]
    }
  ]
}