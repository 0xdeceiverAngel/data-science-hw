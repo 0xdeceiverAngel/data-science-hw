{
  "nbformat": 4,
  "nbformat_minor": 0,
  "metadata": {
    "colab": {
      "name": "hw7.ipynb",
      "provenance": [],
      "collapsed_sections": []
    },
    "kernelspec": {
      "name": "python3",
      "display_name": "Python 3"
    }
  },
  "cells": [
    {
      "cell_type": "code",
      "metadata": {
        "colab": {
          "base_uri": "https://localhost:8080/"
        },
        "id": "Fdgi8LdfEYiQ",
        "outputId": "12b7ae2e-e3dc-4159-c26d-5ee44c929fb8"
      },
      "source": [
        "# !pip install sklearn\n",
        "import tensorflow as tf\n",
        "print(tf.__version__)\n",
        "from tensorflow.keras import layers\n",
        "from tensorflow.keras import regularizers\n",
        "import matplotlib.pyplot as plt\n",
        "\n",
        "import sklearn"
      ],
      "execution_count": 201,
      "outputs": [
        {
          "output_type": "stream",
          "text": [
            "2.3.0\n"
          ],
          "name": "stdout"
        }
      ]
    },
    {
      "cell_type": "code",
      "metadata": {
        "colab": {
          "base_uri": "https://localhost:8080/"
        },
        "id": "HrkHnB9rFQBW",
        "outputId": "9cbbd0bd-36dd-46ad-8be8-5ad98b2d44e8"
      },
      "source": [
        "data_x,data_y = sklearn.datasets.load_breast_cancer(return_X_y=True)\n",
        "print(data_x[0].shape)\n",
        "print(data_y.shape)\n",
        "# print(data_y)"
      ],
      "execution_count": 202,
      "outputs": [
        {
          "output_type": "stream",
          "text": [
            "(30,)\n",
            "(569,)\n"
          ],
          "name": "stdout"
        }
      ]
    },
    {
      "cell_type": "code",
      "metadata": {
        "id": "7CUw14C0Eazg",
        "colab": {
          "base_uri": "https://localhost:8080/"
        },
        "outputId": "29a18316-974c-4098-e9c9-7070ed9d46a1"
      },
      "source": [
        "model = tf.keras.Sequential(name='nn_LogisticRegression')\n",
        "# model.add(layers.Dense(5,input_dim=30,activation='linear'))\n",
        "model.add(layers.Dense(1, activation='linear',\n",
        "#  kernel_regularizer=regularizers.l2(0.001),\n",
        " input_shape=(30,)))\n",
        "# model.add(layers.Dense(1))\n",
        "#  kernel_regularizer=regularizers.l2(0.001)))\n",
        "model.compile(optimizer='sgd',\n",
        " loss=tf.keras.losses.BinaryCrossentropy(from_logits=True),metrics=['accuracy'])\n",
        "model.summary()"
      ],
      "execution_count": 203,
      "outputs": [
        {
          "output_type": "stream",
          "text": [
            "Model: \"nn_LogisticRegression\"\n",
            "_________________________________________________________________\n",
            "Layer (type)                 Output Shape              Param #   \n",
            "=================================================================\n",
            "dense_53 (Dense)             (None, 1)                 31        \n",
            "=================================================================\n",
            "Total params: 31\n",
            "Trainable params: 31\n",
            "Non-trainable params: 0\n",
            "_________________________________________________________________\n"
          ],
          "name": "stdout"
        }
      ]
    },
    {
      "cell_type": "code",
      "metadata": {
        "id": "7gyXBdtiGyfu"
      },
      "source": [
        "history = model.fit(data_x, data_y, batch_size=2, epochs=5, verbose=0)"
      ],
      "execution_count": 204,
      "outputs": []
    },
    {
      "cell_type": "code",
      "metadata": {
        "colab": {
          "base_uri": "https://localhost:8080/"
        },
        "id": "gi6reO-xNcpw",
        "outputId": "4e6c92ea-c43a-4432-fede-8c3fabc001af"
      },
      "source": [
        "print(history.history.keys())\n",
        "print(history.history['loss'])\n",
        "print(history.history['accuracy'])"
      ],
      "execution_count": 205,
      "outputs": [
        {
          "output_type": "stream",
          "text": [
            "dict_keys(['loss', 'accuracy'])\n",
            "[1539.308349609375, 779.1441040039062, 479.2145080566406, 546.4605712890625, 570.6305541992188]\n",
            "[0.5922671556472778, 0.7592267394065857, 0.8014059662818909, 0.7644991278648376, 0.7873462438583374]\n"
          ],
          "name": "stdout"
        }
      ]
    },
    {
      "cell_type": "code",
      "metadata": {
        "colab": {
          "base_uri": "https://localhost:8080/",
          "height": 282
        },
        "id": "kSrZ3sPzVocG",
        "outputId": "b3014df4-47e3-4cc2-e91b-76a777cc41e4"
      },
      "source": [
        "plt.plot(history.history['accuracy'])"
      ],
      "execution_count": 206,
      "outputs": [
        {
          "output_type": "execute_result",
          "data": {
            "text/plain": [
              "[<matplotlib.lines.Line2D at 0x7f6b09d75908>]"
            ]
          },
          "metadata": {
            "tags": []
          },
          "execution_count": 206
        },
        {
          "output_type": "display_data",
          "data": {
            "image/png": "[encoded data removed]",
            "text/plain": [
              "<Figure size 432x288 with 1 Axes>"
            ]
          },
          "metadata": {
            "tags": [],
            "needs_background": "light"
          }
        }
      ]
    },
    {
      "cell_type": "code",
      "metadata": {
        "colab": {
          "base_uri": "https://localhost:8080/",
          "height": 282
        },
        "id": "OXOZI5NSNcpz",
        "outputId": "d9b9b978-621a-4eb0-8160-a149d7da0ca7"
      },
      "source": [
        "plt.plot(history.history['loss'])"
      ],
      "execution_count": 207,
      "outputs": [
        {
          "output_type": "execute_result",
          "data": {
            "text/plain": [
              "[<matplotlib.lines.Line2D at 0x7f6b05b14a58>]"
            ]
          },
          "metadata": {
            "tags": []
          },
          "execution_count": 207
        },
        {
          "output_type": "display_data",
          "data": {
            "image/png": "[encoded data removed]",
            "text/plain": [
              "<Figure size 432x288 with 1 Axes>"
            ]
          },
          "metadata": {
            "tags": [],
            "needs_background": "light"
          }
        }
      ]
    }
  ]
}