{
  "nbformat": 4,
  "nbformat_minor": 0,
  "metadata": {
    "colab": {
      "name": "hw10_c.ipynb 的副本",
      "provenance": [],
      "collapsed_sections": []
    },
    "kernelspec": {
      "name": "python3",
      "display_name": "Python 3"
    }
  },
  "cells": [
    {
      "cell_type": "markdown",
      "metadata": {
        "id": "uvXM5oO9NFv1"
      },
      "source": [
        "# Find the best regression model (try your best) for the diabetes dataset. "
      ]
    },
    {
      "cell_type": "code",
      "metadata": {
        "colab": {
          "base_uri": "https://localhost:8080/"
        },
        "id": "bOzsfQ5ytVqK",
        "outputId": "8243a7f9-34aa-426c-87de-990970557215"
      },
      "source": [
        "# !pip install sklearn\r\n",
        "from IPython.display import clear_output\r\n",
        "import pandas as pd\r\n",
        "import tensorflow as tf\r\n",
        "print(tf.__version__)\r\n",
        "from tensorflow.keras import regularizers\r\n",
        "from tensorflow import keras\r\n",
        "from tensorflow.keras import layers\r\n",
        "from tensorflow.keras.losses import SparseCategoricalCrossentropy\r\n",
        "from tensorflow.keras.losses import *\r\n",
        "from tensorflow.keras.metrics import *\r\n",
        "import matplotlib.pyplot as plt\r\n",
        "import numpy as np\r\n",
        "from sklearn.datasets import load_diabetes\r\n",
        "from sklearn.model_selection import RepeatedStratifiedKFold\r\n",
        "from sklearn.linear_model import LogisticRegression\r\n",
        "from sklearn.model_selection import cross_val_score\r\n",
        "from sklearn.model_selection import KFold\r\n",
        "# from sklearn.model_selection import cross_validate\r\n",
        "from sklearn.metrics import *"
      ],
      "execution_count": null,
      "outputs": [
        {
          "output_type": "stream",
          "text": [
            "2.4.0\n"
          ],
          "name": "stdout"
        }
      ]
    },
    {
      "cell_type": "code",
      "metadata": {
        "colab": {
          "base_uri": "https://localhost:8080/"
        },
        "id": "svngJjSmt7_Y",
        "outputId": "fa2aff5a-762c-4c95-d596-7d4bdd351d6f"
      },
      "source": [
        "#load data\r\n",
        "data_x,data_y = load_diabetes(return_X_y=True)\r\n",
        "print(data_x[0])\r\n",
        "print(data_y[0])\r\n",
        "print(data_x.shape)\r\n",
        "print(data_y.shape)\r\n"
      ],
      "execution_count": null,
      "outputs": [
        {
          "output_type": "stream",
          "text": [
            "[ 0.03807591  0.05068012  0.06169621  0.02187235 -0.0442235  -0.03482076\n",
            " -0.04340085 -0.00259226  0.01990842 -0.01764613]\n",
            "151.0\n",
            "(442, 10)\n",
            "(442,)\n"
          ],
          "name": "stdout"
        }
      ]
    },
    {
      "cell_type": "code",
      "metadata": {
        "id": "te8NOtQqvXs4"
      },
      "source": [
        "x_train=data_x[400:]\r\n",
        "x_test=data_x[:-42]\r\n",
        "y_train=data_y[400:]\r\n",
        "y_test=data_y[:-42]"
      ],
      "execution_count": null,
      "outputs": []
    },
    {
      "cell_type": "code",
      "metadata": {
        "colab": {
          "base_uri": "https://localhost:8080/"
        },
        "id": "BFreGFjesmuD",
        "outputId": "a7f461fe-112b-41ba-e52c-fc8f0d98b948"
      },
      "source": [
        "#define model\r\n",
        "x = keras.Input(shape=(10,))\r\n",
        "h1 = layers.Dense(64, activation='relu')(x)\r\n",
        "d=layers.Dropout(rate=0.2)(h1)\r\n",
        "h2 = layers.Dense(64, activation='relu')(d)\r\n",
        "h3 = layers.Dense(32, activation='relu')(h2)\r\n",
        "outputs = layers.Dense(1)(h3)\r\n",
        "nn_model = keras.Model(inputs=x, outputs=outputs,name='nn_network')\r\n",
        "nn_model.summary()\r\n",
        "nn_model.compile(optimizer='adam',loss=\"huber\",metrics=['mse','mae'])"
      ],
      "execution_count": null,
      "outputs": [
        {
          "output_type": "stream",
          "text": [
            "Model: \"nn_network\"\n",
            "_________________________________________________________________\n",
            "Layer (type)                 Output Shape              Param #   \n",
            "=================================================================\n",
            "input_1 (InputLayer)         [(None, 10)]              0         \n",
            "_________________________________________________________________\n",
            "dense (Dense)                (None, 64)                704       \n",
            "_________________________________________________________________\n",
            "dropout (Dropout)            (None, 64)                0         \n",
            "_________________________________________________________________\n",
            "dense_1 (Dense)              (None, 64)                4160      \n",
            "_________________________________________________________________\n",
            "dense_2 (Dense)              (None, 32)                2080      \n",
            "_________________________________________________________________\n",
            "dense_3 (Dense)              (None, 1)                 33        \n",
            "=================================================================\n",
            "Total params: 6,977\n",
            "Trainable params: 6,977\n",
            "Non-trainable params: 0\n",
            "_________________________________________________________________\n"
          ],
          "name": "stdout"
        }
      ]
    },
    {
      "cell_type": "code",
      "metadata": {
        "id": "hjytGAZauepz"
      },
      "source": [
        "# #define model\r\n",
        "# x = keras.Input(shape=(10,))\r\n",
        "# h1 = layers.Dense(12, activation='relu')(x)\r\n",
        "# h2 = layers.Dense(8, activation='relu')(h1)\r\n",
        "# h3 = layers.Dense(3, activation='relu')(h2)\r\n",
        "# outputs = layers.Dense(1)(h3)\r\n",
        "# nn_model = keras.Model(inputs=x, outputs=outputs,name='nn_network')\r\n",
        "# nn_model.summary()\r\n",
        "# nn_model.compile(optimizer='adam',loss=\"huber\",metrics=['mse','mae'])"
      ],
      "execution_count": null,
      "outputs": []
    },
    {
      "cell_type": "code",
      "metadata": {
        "id": "5uwauXV0vSK5"
      },
      "source": [
        "history = nn_model.fit(x_train,y_train,\r\n",
        "              batch_size=20, epochs=1000, verbose=0,\r\n",
        "              validation_data=(x_test,y_test),)"
      ],
      "execution_count": null,
      "outputs": []
    },
    {
      "cell_type": "code",
      "metadata": {
        "colab": {
          "base_uri": "https://localhost:8080/",
          "height": 290
        },
        "id": "OOKdPC-u0ykj",
        "outputId": "d346f183-cea2-4cd7-cf60-e11849249052"
      },
      "source": [
        "loss_pic=np.array([])\r\n",
        "acc_pic=np.array([])\r\n",
        "val_pic=np.array([])\r\n",
        "plt.title(\"Loss compare\",fontsize=25,)\r\n",
        "\r\n",
        "loss_pic=history.history['loss']\r\n",
        "val_pic=history.history['val_loss']\r\n",
        "\r\n",
        "ep=range(1,len(loss_pic)+1)\r\n",
        "plt.plot(ep,loss_pic,\"red\",label=\"training loss\")\r\n",
        "plt.plot(ep,val_pic,\"orange\",label=\"val loss\")\r\n",
        "plt.legend()\r\n",
        "plt.show()"
      ],
      "execution_count": null,
      "outputs": [
        {
          "output_type": "display_data",
          "data": {
            "image/png": "[encoded data removed]",
            "text/plain": [
              "<Figure size 432x288 with 1 Axes>"
            ]
          },
          "metadata": {
            "tags": [],
            "needs_background": "light"
          }
        }
      ]
    },
    {
      "cell_type": "code",
      "metadata": {
        "colab": {
          "base_uri": "https://localhost:8080/",
          "height": 290
        },
        "id": "XZAVAZby2GcF",
        "outputId": "1a5023bc-230a-4119-c328-f50c76ef3a49"
      },
      "source": [
        "plt.title(\"mse\",fontsize=25,)\r\n",
        "plt.plot(history.history['mse'],\"red\",label=\"mse\")\r\n",
        "plt.plot(history.history['val_mse'],\"orange\",label=\"val_mse\")\r\n",
        "plt.legend()\r\n",
        "plt.show()"
      ],
      "execution_count": null,
      "outputs": [
        {
          "output_type": "display_data",
          "data": {
            "image/png": "[encoded data removed]",
            "text/plain": [
              "<Figure size 432x288 with 1 Axes>"
            ]
          },
          "metadata": {
            "tags": [],
            "needs_background": "light"
          }
        }
      ]
    },
    {
      "cell_type": "code",
      "metadata": {
        "colab": {
          "base_uri": "https://localhost:8080/",
          "height": 290
        },
        "id": "3xJf87T366j_",
        "outputId": "dfbef8c2-c37c-49c9-eab8-134b10718a7b"
      },
      "source": [
        "plt.title(\"mae\",fontsize=25,)\r\n",
        "plt.plot(history.history['mae'],\"red\",label=\"mae\")\r\n",
        "plt.plot(history.history['val_mae'],\"orange\",label=\"val_mae\")\r\n",
        "plt.legend()\r\n",
        "plt.show()"
      ],
      "execution_count": null,
      "outputs": [
        {
          "output_type": "display_data",
          "data": {
            "image/png": "[encoded data removed]",
            "text/plain": [
              "<Figure size 432x288 with 1 Axes>"
            ]
          },
          "metadata": {
            "tags": [],
            "needs_background": "light"
          }
        }
      ]
    },
    {
      "cell_type": "code",
      "metadata": {
        "colab": {
          "base_uri": "https://localhost:8080/"
        },
        "id": "MqKf3uYS2XSs",
        "outputId": "d400374c-545f-4d86-80c3-c80e2d2a834a"
      },
      "source": [
        "nn_model.predict(np.array([data_x[0]]))"
      ],
      "execution_count": null,
      "outputs": [
        {
          "output_type": "execute_result",
          "data": {
            "text/plain": [
              "array([[188.47832]], dtype=float32)"
            ]
          },
          "metadata": {
            "tags": []
          },
          "execution_count": 12
        }
      ]
    },
    {
      "cell_type": "markdown",
      "metadata": {
        "id": "f18CKtctNdAQ"
      },
      "source": [
        "# Is “Average blood pressure” an important factor for diabetes disease? Explain this by crossvalidations."
      ]
    },
    {
      "cell_type": "code",
      "metadata": {
        "colab": {
          "base_uri": "https://localhost:8080/"
        },
        "id": "uYHnru6efyWu",
        "outputId": "1fe1c108-f1de-4664-cbac-5bc5d6f1bf0d"
      },
      "source": [
        "# !pip install sklearn\r\n",
        "from IPython.display import clear_output\r\n",
        "import pandas as pd\r\n",
        "import tensorflow as tf\r\n",
        "print(tf.__version__)\r\n",
        "from tensorflow.keras import regularizers\r\n",
        "from tensorflow import keras\r\n",
        "from tensorflow.keras import layers\r\n",
        "from tensorflow.keras.losses import SparseCategoricalCrossentropy\r\n",
        "from tensorflow.keras.losses import *\r\n",
        "from tensorflow.keras.metrics import *\r\n",
        "import matplotlib.pyplot as plt\r\n",
        "import numpy as np\r\n",
        "from sklearn.datasets import load_diabetes\r\n",
        "from sklearn.model_selection import RepeatedStratifiedKFold\r\n",
        "from sklearn.linear_model import LogisticRegression\r\n",
        "from sklearn.model_selection import cross_val_score\r\n",
        "from sklearn.model_selection import KFold\r\n",
        "# from sklearn.model_selection import cross_validate\r\n",
        "from sklearn.metrics import *"
      ],
      "execution_count": null,
      "outputs": [
        {
          "output_type": "stream",
          "text": [
            "2.4.0\n"
          ],
          "name": "stdout"
        }
      ]
    },
    {
      "cell_type": "code",
      "metadata": {
        "colab": {
          "base_uri": "https://localhost:8080/"
        },
        "id": "u6rGkuhOf2FP",
        "outputId": "3828d1ef-a9ac-47ab-f988-b82ddd8f13b5"
      },
      "source": [
        "#load data\r\n",
        "data_x,data_y = load_diabetes(return_X_y=True)\r\n",
        "print(data_x[0])\r\n",
        "print(data_y[0])\r\n",
        "print(data_x.shape)\r\n",
        "print(data_y.shape)\r\n"
      ],
      "execution_count": null,
      "outputs": [
        {
          "output_type": "stream",
          "text": [
            "[ 0.03807591  0.05068012  0.06169621  0.02187235 -0.0442235  -0.03482076\n",
            " -0.04340085 -0.00259226  0.01990842 -0.01764613]\n",
            "151.0\n",
            "(442, 10)\n",
            "(442,)\n"
          ],
          "name": "stdout"
        }
      ]
    },
    {
      "cell_type": "code",
      "metadata": {
        "colab": {
          "base_uri": "https://localhost:8080/"
        },
        "id": "71Tkc1d8f4lO",
        "outputId": "633d1977-847e-4dfe-bc82-b2c5c4b0097b"
      },
      "source": [
        "#define model for data with \"Average blood pressure\"\r\n",
        "x = keras.Input(shape=(10,))\r\n",
        "h1 = layers.Dense(64, activation='relu')(x)\r\n",
        "d=layers.Dropout(rate=0.2)(h1)\r\n",
        "h2 = layers.Dense(64, activation='relu')(d)\r\n",
        "h3 = layers.Dense(32, activation='relu')(h2)\r\n",
        "outputs = layers.Dense(1)(h3)\r\n",
        "nn_model = keras.Model(inputs=x, outputs=outputs,name='nn_network')\r\n",
        "nn_model.summary()\r\n",
        "nn_model.compile(optimizer='adam',loss=\"huber\",metrics=['mse','mae'])"
      ],
      "execution_count": null,
      "outputs": [
        {
          "output_type": "stream",
          "text": [
            "Model: \"nn_network\"\n",
            "_________________________________________________________________\n",
            "Layer (type)                 Output Shape              Param #   \n",
            "=================================================================\n",
            "input_2 (InputLayer)         [(None, 10)]              0         \n",
            "_________________________________________________________________\n",
            "dense_4 (Dense)              (None, 64)                704       \n",
            "_________________________________________________________________\n",
            "dropout_1 (Dropout)          (None, 64)                0         \n",
            "_________________________________________________________________\n",
            "dense_5 (Dense)              (None, 64)                4160      \n",
            "_________________________________________________________________\n",
            "dense_6 (Dense)              (None, 32)                2080      \n",
            "_________________________________________________________________\n",
            "dense_7 (Dense)              (None, 1)                 33        \n",
            "=================================================================\n",
            "Total params: 6,977\n",
            "Trainable params: 6,977\n",
            "Non-trainable params: 0\n",
            "_________________________________________________________________\n"
          ],
          "name": "stdout"
        }
      ]
    },
    {
      "cell_type": "code",
      "metadata": {
        "colab": {
          "base_uri": "https://localhost:8080/"
        },
        "id": "rkrAGUiof70o",
        "outputId": "44071376-7fba-4ff3-b82a-3ed70c242f85"
      },
      "source": [
        "with_blood_avg_loss=0\r\n",
        "with_blood_avg_mse=0\r\n",
        "with_blood_avg_mae=0\r\n",
        "kf=KFold(n_splits=5,shuffle=True)\r\n",
        "for train_index,test_index in kf.split(data_x):\r\n",
        "    x_train,x_test=data_x[train_index],data_x[test_index]\r\n",
        "    y_train,y_test=data_y[train_index],data_y[test_index]\r\n",
        "    history = nn_model.fit(x_train,y_train,\r\n",
        "              batch_size=20, epochs=200, verbose=0,\r\n",
        "              validation_data=(x_test,y_test),)\r\n",
        "            #   callbacks=[cb()])\r\n",
        "    lo,mse,mae=nn_model.evaluate(x_test,y_test)\r\n",
        "    with_blood_avg_loss+=lo\r\n",
        "    with_blood_avg_mse+=mse\r\n",
        "    with_blood_avg_mae+=mae\r\n",
        "print(with_blood_avg_loss/5,with_blood_avg_mse/5,with_blood_avg_mae/5)"
      ],
      "execution_count": null,
      "outputs": [
        {
          "output_type": "stream",
          "text": [
            "3/3 [==============================] - 0s 4ms/step - loss: 45.0183 - mse: 3017.9490 - mae: 45.5175\n",
            "3/3 [==============================] - 0s 4ms/step - loss: 39.6635 - mse: 2539.6067 - mae: 40.1612\n",
            "3/3 [==============================] - 0s 3ms/step - loss: 50.8691 - mse: 4067.3975 - mae: 51.3687\n",
            "3/3 [==============================] - 0s 3ms/step - loss: 36.4812 - mse: 2479.1328 - mae: 36.9781\n",
            "3/3 [==============================] - 0s 3ms/step - loss: 38.9455 - mse: 2637.1819 - mae: 39.4405\n",
            "42.195526885986325 2948.253564453125 42.693190002441405\n"
          ],
          "name": "stdout"
        }
      ]
    },
    {
      "cell_type": "code",
      "metadata": {
        "id": "ZOgyb-B9uhpd",
        "colab": {
          "base_uri": "https://localhost:8080/"
        },
        "outputId": "23d12230-39a5-4405-cb8a-70af1ea28a06"
      },
      "source": [
        "res1=nn_model.predict(x_test)\r\n",
        "res1[0]"
      ],
      "execution_count": null,
      "outputs": [
        {
          "output_type": "execute_result",
          "data": {
            "text/plain": [
              "array([110.64066], dtype=float32)"
            ]
          },
          "metadata": {
            "tags": []
          },
          "execution_count": 17
        }
      ]
    },
    {
      "cell_type": "code",
      "metadata": {
        "id": "wg9lU_-5qdxY",
        "colab": {
          "base_uri": "https://localhost:8080/"
        },
        "outputId": "d7c1b889-04d9-44c8-abca-b0dc9e676732"
      },
      "source": [
        "x = keras.Input(shape=(9,)) # model for data without \"Average blood pressure\"\r\n",
        "h1 = layers.Dense(64, activation='relu')(x)\r\n",
        "d=layers.Dropout(rate=0.2)(h1)\r\n",
        "h2 = layers.Dense(64, activation='relu')(d)\r\n",
        "h3 = layers.Dense(32, activation='relu')(h2)\r\n",
        "outputs = layers.Dense(1)(h3)\r\n",
        "nn_model = keras.Model(inputs=x, outputs=outputs,name='nn_network')\r\n",
        "nn_model.summary()"
      ],
      "execution_count": null,
      "outputs": [
        {
          "output_type": "stream",
          "text": [
            "Model: \"nn_network\"\n",
            "_________________________________________________________________\n",
            "Layer (type)                 Output Shape              Param #   \n",
            "=================================================================\n",
            "input_3 (InputLayer)         [(None, 9)]               0         \n",
            "_________________________________________________________________\n",
            "dense_8 (Dense)              (None, 64)                640       \n",
            "_________________________________________________________________\n",
            "dropout_2 (Dropout)          (None, 64)                0         \n",
            "_________________________________________________________________\n",
            "dense_9 (Dense)              (None, 64)                4160      \n",
            "_________________________________________________________________\n",
            "dense_10 (Dense)             (None, 32)                2080      \n",
            "_________________________________________________________________\n",
            "dense_11 (Dense)             (None, 1)                 33        \n",
            "=================================================================\n",
            "Total params: 6,913\n",
            "Trainable params: 6,913\n",
            "Non-trainable params: 0\n",
            "_________________________________________________________________\n"
          ],
          "name": "stdout"
        }
      ]
    },
    {
      "cell_type": "code",
      "metadata": {
        "id": "53OtTxu5uExS",
        "colab": {
          "base_uri": "https://localhost:8080/"
        },
        "outputId": "e5eee4d1-3ac0-4430-f0f2-3e9aab38516b"
      },
      "source": [
        "nn_model.compile(optimizer='adam',loss=\"huber\",metrics=['mse','mae'])\r\n",
        "loss=0\r\n",
        "mse_sum=0\r\n",
        "mae_sum=0\r\n",
        "data_x=np.delete(data_x,np.s_[3],1)\r\n",
        "kf=KFold(n_splits=5,shuffle=True)\r\n",
        "for train_index,test_index in kf.split(data_x):\r\n",
        "    x_train,x_test=data_x[train_index],data_x[test_index]\r\n",
        "    y_train,y_test=data_y[train_index],data_y[test_index]\r\n",
        "    history = nn_model.fit(x_train,y_train,\r\n",
        "              batch_size=20, epochs=200, verbose=0,\r\n",
        "              validation_data=(x_test,y_test),)\r\n",
        "            #   callbacks=[cb()])\r\n",
        "    lo,mse,mae=nn_model.evaluate(x_test,y_test)\r\n",
        "    loss+=lo\r\n",
        "    mse_sum+=mse\r\n",
        "    mae_sum+=mae\r\n",
        "print(loss/5,mse_sum/5,mae_sum/5)"
      ],
      "execution_count": null,
      "outputs": [
        {
          "output_type": "stream",
          "text": [
            "3/3 [==============================] - 0s 2ms/step - loss: 43.6037 - mse: 3209.3469 - mae: 44.1036\n",
            "3/3 [==============================] - 0s 3ms/step - loss: 46.5611 - mse: 3441.1707 - mae: 47.0550\n",
            "3/3 [==============================] - 0s 2ms/step - loss: 46.7575 - mse: 3421.0181 - mae: 47.2556\n",
            "3/3 [==============================] - 0s 4ms/step - loss: 42.8191 - mse: 2974.2905 - mae: 43.3138\n",
            "3/3 [==============================] - 0s 4ms/step - loss: 41.2470 - mse: 2913.0771 - mae: 41.7470\n",
            "44.19767456054687 3191.7806640625 44.69499893188477\n"
          ],
          "name": "stdout"
        }
      ]
    },
    {
      "cell_type": "code",
      "metadata": {
        "id": "qj68IKbMuPLn",
        "colab": {
          "base_uri": "https://localhost:8080/"
        },
        "outputId": "07f57960-a2df-414a-d424-4041a058bf00"
      },
      "source": [
        "res2=nn_model.predict(x_test)\r\n",
        "res2[0]"
      ],
      "execution_count": null,
      "outputs": [
        {
          "output_type": "execute_result",
          "data": {
            "text/plain": [
              "array([93.87444], dtype=float32)"
            ]
          },
          "metadata": {
            "tags": []
          },
          "execution_count": 20
        }
      ]
    },
    {
      "cell_type": "code",
      "metadata": {
        "colab": {
          "base_uri": "https://localhost:8080/"
        },
        "id": "41We6CGDzeGw",
        "outputId": "38b56245-ae15-4112-cc43-98abf59d7a27"
      },
      "source": [
        "print('with blood pressure data and no blood pressure data loss compare')\r\n",
        "print(\"avg_loss\",with_blood_avg_loss/5, loss/5)\r\n",
        "print(\"avg_mse\", with_blood_avg_mse/5,mse_sum/5)\r\n",
        "print(\"avg_mae\", with_blood_avg_mae/5,mae_sum/5)"
      ],
      "execution_count": null,
      "outputs": [
        {
          "output_type": "stream",
          "text": [
            "with blood pressure data and no blood pressure data loss compare\n",
            "avg_loss 42.195526885986325 44.19767456054687\n",
            "avg_mse 2948.253564453125 3191.7806640625\n",
            "avg_mae 42.693190002441405 44.69499893188477\n"
          ],
          "name": "stdout"
        }
      ]
    },
    {
      "cell_type": "markdown",
      "metadata": {
        "id": "kSTZ_BBXO9xu"
      },
      "source": [
        "By the result above\r\n",
        "Data with \"Average blood pressure\" will have less loss than data without  \"Average blood pressure\" ,so \"Average blood pressure\" is an important factor for diabetes disease\r\n",
        "\r\n"
      ]
    },
    {
      "cell_type": "markdown",
      "metadata": {
        "id": "DkOnmjj8Nqh6"
      },
      "source": [
        "# Bonus: use auto-sklearn or AutoKeras to search for a good regression model automatically."
      ]
    },
    {
      "cell_type": "code",
      "metadata": {
        "colab": {
          "base_uri": "https://localhost:8080/"
        },
        "id": "QRZC-SiRDGVS",
        "outputId": "54e9e218-63ed-4a1e-9be6-883f3435422d"
      },
      "source": [
        "!pip install autokeras\r\n",
        "import sklearn.model_selection\r\n",
        "import sklearn.metrics\r\n",
        "import sklearn.datasets\r\n",
        "import autokeras as ak\r\n",
        "from autokeras import StructuredDataRegressor\r\n",
        "from sklearn.datasets import load_diabetes"
      ],
      "execution_count": null,
      "outputs": [
        {
          "output_type": "stream",
          "text": [
            "Collecting autokeras\n",
            "\u001b[?25l  Downloading https://files.pythonhosted.org/packages/09/12/cf698586ccc8245f08d1843dcafb65b064a2e9e2923b889dc58e1019f099/autokeras-1.0.12-py3-none-any.whl (164kB)\n",
            "\r\u001b[K     |██                              | 10kB 18.5MB/s eta 0:00:01\r\u001b[K     |████                            | 20kB 23.1MB/s eta 0:00:01\r\u001b[K     |██████                          | 30kB 10.6MB/s eta 0:00:01\r\u001b[K     |████████                        | 40kB 8.4MB/s eta 0:00:01\r\u001b[K     |██████████                      | 51kB 4.2MB/s eta 0:00:01\r\u001b[K     |████████████                    | 61kB 4.7MB/s eta 0:00:01\r\u001b[K     |██████████████                  | 71kB 4.9MB/s eta 0:00:01\r\u001b[K     |████████████████                | 81kB 5.2MB/s eta 0:00:01\r\u001b[K     |██████████████████              | 92kB 5.5MB/s eta 0:00:01\r\u001b[K     |████████████████████            | 102kB 5.7MB/s eta 0:00:01\r\u001b[K     |██████████████████████          | 112kB 5.7MB/s eta 0:00:01\r\u001b[K     |████████████████████████        | 122kB 5.7MB/s eta 0:00:01\r\u001b[K     |██████████████████████████      | 133kB 5.7MB/s eta 0:00:01\r\u001b[K     |████████████████████████████    | 143kB 5.7MB/s eta 0:00:01\r\u001b[K     |██████████████████████████████  | 153kB 5.7MB/s eta 0:00:01\r\u001b[K     |████████████████████████████████| 163kB 5.7MB/s eta 0:00:01\r\u001b[K     |████████████████████████████████| 174kB 5.7MB/s \n",
            "\u001b[?25hRequirement already satisfied: tensorflow>=2.3.0 in /usr/local/lib/python3.6/dist-packages (from autokeras) (2.4.0)\n",
            "Requirement already satisfied: packaging in /usr/local/lib/python3.6/dist-packages (from autokeras) (20.8)\n",
            "Requirement already satisfied: pandas in /usr/local/lib/python3.6/dist-packages (from autokeras) (1.1.5)\n",
            "Requirement already satisfied: scikit-learn in /usr/local/lib/python3.6/dist-packages (from autokeras) (0.22.2.post1)\n",
            "Collecting keras-tuner>=1.0.2\n",
            "\u001b[?25l  Downloading https://files.pythonhosted.org/packages/20/ec/1ef246787174b1e2bb591c95f29d3c1310070cad877824f907faba3dade9/keras-tuner-1.0.2.tar.gz (62kB)\n",
            "\u001b[K     |████████████████████████████████| 71kB 8.0MB/s \n",
            "\u001b[?25hRequirement already satisfied: protobuf>=3.9.2 in /usr/local/lib/python3.6/dist-packages (from tensorflow>=2.3.0->autokeras) (3.12.4)\n",
            "Requirement already satisfied: gast==0.3.3 in /usr/local/lib/python3.6/dist-packages (from tensorflow>=2.3.0->autokeras) (0.3.3)\n",
            "Requirement already satisfied: flatbuffers~=1.12.0 in /usr/local/lib/python3.6/dist-packages (from tensorflow>=2.3.0->autokeras) (1.12)\n",
            "Requirement already satisfied: keras-preprocessing~=1.1.2 in /usr/local/lib/python3.6/dist-packages (from tensorflow>=2.3.0->autokeras) (1.1.2)\n",
            "Requirement already satisfied: astunparse~=1.6.3 in /usr/local/lib/python3.6/dist-packages (from tensorflow>=2.3.0->autokeras) (1.6.3)\n",
            "Requirement already satisfied: numpy~=1.19.2 in /usr/local/lib/python3.6/dist-packages (from tensorflow>=2.3.0->autokeras) (1.19.4)\n",
            "Requirement already satisfied: absl-py~=0.10 in /usr/local/lib/python3.6/dist-packages (from tensorflow>=2.3.0->autokeras) (0.10.0)\n",
            "Requirement already satisfied: opt-einsum~=3.3.0 in /usr/local/lib/python3.6/dist-packages (from tensorflow>=2.3.0->autokeras) (3.3.0)\n",
            "Requirement already satisfied: wheel~=0.35 in /usr/local/lib/python3.6/dist-packages (from tensorflow>=2.3.0->autokeras) (0.36.2)\n",
            "Requirement already satisfied: wrapt~=1.12.1 in /usr/local/lib/python3.6/dist-packages (from tensorflow>=2.3.0->autokeras) (1.12.1)\n",
            "Requirement already satisfied: tensorboard~=2.4 in /usr/local/lib/python3.6/dist-packages (from tensorflow>=2.3.0->autokeras) (2.4.0)\n",
            "Requirement already satisfied: termcolor~=1.1.0 in /usr/local/lib/python3.6/dist-packages (from tensorflow>=2.3.0->autokeras) (1.1.0)\n",
            "Requirement already satisfied: typing-extensions~=3.7.4 in /usr/local/lib/python3.6/dist-packages (from tensorflow>=2.3.0->autokeras) (3.7.4.3)\n",
            "Requirement already satisfied: grpcio~=1.32.0 in /usr/local/lib/python3.6/dist-packages (from tensorflow>=2.3.0->autokeras) (1.32.0)\n",
            "Requirement already satisfied: six~=1.15.0 in /usr/local/lib/python3.6/dist-packages (from tensorflow>=2.3.0->autokeras) (1.15.0)\n",
            "Requirement already satisfied: tensorflow-estimator<2.5.0,>=2.4.0rc0 in /usr/local/lib/python3.6/dist-packages (from tensorflow>=2.3.0->autokeras) (2.4.0)\n",
            "Requirement already satisfied: h5py~=2.10.0 in /usr/local/lib/python3.6/dist-packages (from tensorflow>=2.3.0->autokeras) (2.10.0)\n",
            "Requirement already satisfied: google-pasta~=0.2 in /usr/local/lib/python3.6/dist-packages (from tensorflow>=2.3.0->autokeras) (0.2.0)\n",
            "Requirement already satisfied: pyparsing>=2.0.2 in /usr/local/lib/python3.6/dist-packages (from packaging->autokeras) (2.4.7)\n",
            "Requirement already satisfied: pytz>=2017.2 in /usr/local/lib/python3.6/dist-packages (from pandas->autokeras) (2018.9)\n",
            "Requirement already satisfied: python-dateutil>=2.7.3 in /usr/local/lib/python3.6/dist-packages (from pandas->autokeras) (2.8.1)\n",
            "Requirement already satisfied: joblib>=0.11 in /usr/local/lib/python3.6/dist-packages (from scikit-learn->autokeras) (1.0.0)\n",
            "Requirement already satisfied: scipy>=0.17.0 in /usr/local/lib/python3.6/dist-packages (from scikit-learn->autokeras) (1.4.1)\n",
            "Requirement already satisfied: future in /usr/local/lib/python3.6/dist-packages (from keras-tuner>=1.0.2->autokeras) (0.16.0)\n",
            "Requirement already satisfied: tabulate in /usr/local/lib/python3.6/dist-packages (from keras-tuner>=1.0.2->autokeras) (0.8.7)\n",
            "Collecting terminaltables\n",
            "  Downloading https://files.pythonhosted.org/packages/9b/c4/4a21174f32f8a7e1104798c445dacdc1d4df86f2f26722767034e4de4bff/terminaltables-3.1.0.tar.gz\n",
            "Collecting colorama\n",
            "  Downloading https://files.pythonhosted.org/packages/44/98/5b86278fbbf250d239ae0ecb724f8572af1c91f4a11edf4d36a206189440/colorama-0.4.4-py2.py3-none-any.whl\n",
            "Requirement already satisfied: tqdm in /usr/local/lib/python3.6/dist-packages (from keras-tuner>=1.0.2->autokeras) (4.41.1)\n",
            "Requirement already satisfied: requests in /usr/local/lib/python3.6/dist-packages (from keras-tuner>=1.0.2->autokeras) (2.23.0)\n",
            "Requirement already satisfied: setuptools in /usr/local/lib/python3.6/dist-packages (from protobuf>=3.9.2->tensorflow>=2.3.0->autokeras) (51.0.0)\n",
            "Requirement already satisfied: markdown>=2.6.8 in /usr/local/lib/python3.6/dist-packages (from tensorboard~=2.4->tensorflow>=2.3.0->autokeras) (3.3.3)\n",
            "Requirement already satisfied: google-auth<2,>=1.6.3 in /usr/local/lib/python3.6/dist-packages (from tensorboard~=2.4->tensorflow>=2.3.0->autokeras) (1.17.2)\n",
            "Requirement already satisfied: werkzeug>=0.11.15 in /usr/local/lib/python3.6/dist-packages (from tensorboard~=2.4->tensorflow>=2.3.0->autokeras) (1.0.1)\n",
            "Requirement already satisfied: tensorboard-plugin-wit>=1.6.0 in /usr/local/lib/python3.6/dist-packages (from tensorboard~=2.4->tensorflow>=2.3.0->autokeras) (1.7.0)\n",
            "Requirement already satisfied: google-auth-oauthlib<0.5,>=0.4.1 in /usr/local/lib/python3.6/dist-packages (from tensorboard~=2.4->tensorflow>=2.3.0->autokeras) (0.4.2)\n",
            "Requirement already satisfied: idna<3,>=2.5 in /usr/local/lib/python3.6/dist-packages (from requests->keras-tuner>=1.0.2->autokeras) (2.10)\n",
            "Requirement already satisfied: urllib3!=1.25.0,!=1.25.1,<1.26,>=1.21.1 in /usr/local/lib/python3.6/dist-packages (from requests->keras-tuner>=1.0.2->autokeras) (1.24.3)\n",
            "Requirement already satisfied: certifi>=2017.4.17 in /usr/local/lib/python3.6/dist-packages (from requests->keras-tuner>=1.0.2->autokeras) (2020.12.5)\n",
            "Requirement already satisfied: chardet<4,>=3.0.2 in /usr/local/lib/python3.6/dist-packages (from requests->keras-tuner>=1.0.2->autokeras) (3.0.4)\n",
            "Requirement already satisfied: importlib-metadata; python_version < \"3.8\" in /usr/local/lib/python3.6/dist-packages (from markdown>=2.6.8->tensorboard~=2.4->tensorflow>=2.3.0->autokeras) (3.3.0)\n",
            "Requirement already satisfied: rsa<5,>=3.1.4; python_version >= \"3\" in /usr/local/lib/python3.6/dist-packages (from google-auth<2,>=1.6.3->tensorboard~=2.4->tensorflow>=2.3.0->autokeras) (4.6)\n",
            "Requirement already satisfied: cachetools<5.0,>=2.0.0 in /usr/local/lib/python3.6/dist-packages (from google-auth<2,>=1.6.3->tensorboard~=2.4->tensorflow>=2.3.0->autokeras) (4.2.0)\n",
            "Requirement already satisfied: pyasn1-modules>=0.2.1 in /usr/local/lib/python3.6/dist-packages (from google-auth<2,>=1.6.3->tensorboard~=2.4->tensorflow>=2.3.0->autokeras) (0.2.8)\n",
            "Requirement already satisfied: requests-oauthlib>=0.7.0 in /usr/local/lib/python3.6/dist-packages (from google-auth-oauthlib<0.5,>=0.4.1->tensorboard~=2.4->tensorflow>=2.3.0->autokeras) (1.3.0)\n",
            "Requirement already satisfied: zipp>=0.5 in /usr/local/lib/python3.6/dist-packages (from importlib-metadata; python_version < \"3.8\"->markdown>=2.6.8->tensorboard~=2.4->tensorflow>=2.3.0->autokeras) (3.4.0)\n",
            "Requirement already satisfied: pyasn1>=0.1.3 in /usr/local/lib/python3.6/dist-packages (from rsa<5,>=3.1.4; python_version >= \"3\"->google-auth<2,>=1.6.3->tensorboard~=2.4->tensorflow>=2.3.0->autokeras) (0.4.8)\n",
            "Requirement already satisfied: oauthlib>=3.0.0 in /usr/local/lib/python3.6/dist-packages (from requests-oauthlib>=0.7.0->google-auth-oauthlib<0.5,>=0.4.1->tensorboard~=2.4->tensorflow>=2.3.0->autokeras) (3.1.0)\n",
            "Building wheels for collected packages: keras-tuner, terminaltables\n",
            "  Building wheel for keras-tuner (setup.py) ... \u001b[?25l\u001b[?25hdone\n",
            "  Created wheel for keras-tuner: filename=keras_tuner-1.0.2-cp36-none-any.whl size=78939 sha256=f13a7f92107cb7683ff45cd86417c5e5fc062a944b063706bf3d9b05438abc55\n",
            "  Stored in directory: /root/.cache/pip/wheels/bb/a1/8a/7c3de0efb3707a1701b36ebbfdbc4e67aedf6d4943a1f463d6\n",
            "  Building wheel for terminaltables (setup.py) ... \u001b[?25l\u001b[?25hdone\n",
            "  Created wheel for terminaltables: filename=terminaltables-3.1.0-cp36-none-any.whl size=15358 sha256=6cfe22e4ca3029375964c9c26650b2c84211eda13df87b35927b70424b368d2e\n",
            "  Stored in directory: /root/.cache/pip/wheels/30/6b/50/6c75775b681fb36cdfac7f19799888ef9d8813aff9e379663e\n",
            "Successfully built keras-tuner terminaltables\n",
            "Installing collected packages: terminaltables, colorama, keras-tuner, autokeras\n",
            "Successfully installed autokeras-1.0.12 colorama-0.4.4 keras-tuner-1.0.2 terminaltables-3.1.0\n"
          ],
          "name": "stdout"
        }
      ]
    },
    {
      "cell_type": "code",
      "metadata": {
        "id": "SCcAD-pjuejY"
      },
      "source": [
        "data_x,data_y = load_diabetes(return_X_y=True)\r\n",
        "x_train=data_x[400:]\r\n",
        "x_test=data_x[:-42]\r\n",
        "y_train=data_y[400:]\r\n",
        "y_test=data_y[:-42]"
      ],
      "execution_count": null,
      "outputs": []
    },
    {
      "cell_type": "code",
      "metadata": {
        "colab": {
          "base_uri": "https://localhost:8080/"
        },
        "id": "cwImMKmbuPXM",
        "outputId": "bb623cab-4db2-4011-cf6d-40b1c84f2280"
      },
      "source": [
        "search = StructuredDataRegressor(max_trials=15,metrics=[\"mae\",\"mse\"])\r\n",
        "history=search.fit(x=x_train, y=y_train,validation_data=(x_test,y_test),verbose=0)"
      ],
      "execution_count": null,
      "outputs": [
        {
          "output_type": "stream",
          "text": [
            "INFO:tensorflow:Oracle triggered exit\n",
            "INFO:tensorflow:Assets written to: ./structured_data_regressor/best_model/assets\n",
            "WARNING:tensorflow:Unresolved object in checkpoint: (root).optimizer.iter\n",
            "WARNING:tensorflow:Unresolved object in checkpoint: (root).optimizer.beta_1\n",
            "WARNING:tensorflow:Unresolved object in checkpoint: (root).optimizer.beta_2\n",
            "WARNING:tensorflow:Unresolved object in checkpoint: (root).optimizer.decay\n",
            "WARNING:tensorflow:Unresolved object in checkpoint: (root).optimizer.learning_rate\n",
            "WARNING:tensorflow:A checkpoint was restored (e.g. tf.train.Checkpoint.restore or tf.keras.Model.load_weights) but not all checkpointed values were used. See above for specific issues. Use expect_partial() on the load status object, e.g. tf.train.Checkpoint.restore(...).expect_partial(), to silence these warnings, or use assert_consumed() to make the check explicit. See https://www.tensorflow.org/guide/checkpoint#loading_mechanics for details.\n"
          ],
          "name": "stdout"
        }
      ]
    },
    {
      "cell_type": "code",
      "metadata": {
        "colab": {
          "base_uri": "https://localhost:8080/"
        },
        "id": "LIZox_L3zYLz",
        "outputId": "ae8d5031-e3f8-4568-e2f5-d6d7385783b7"
      },
      "source": [
        "import numpy as np\r\n",
        "pred=search.predict(np.array([x_test[0]]))\r\n",
        "print(pred,y_test[0])"
      ],
      "execution_count": null,
      "outputs": [
        {
          "output_type": "stream",
          "text": [
            "WARNING:tensorflow:Compiled the loaded model, but the compiled metrics have yet to be built. `model.compile_metrics` will be empty until you train or evaluate the model.\n",
            "[[179.47102]] 151.0\n"
          ],
          "name": "stdout"
        }
      ]
    },
    {
      "cell_type": "code",
      "metadata": {
        "colab": {
          "base_uri": "https://localhost:8080/"
        },
        "id": "x-4Ofwl6XI86",
        "outputId": "ad858757-a72f-4f88-f1ba-078120f64615"
      },
      "source": [
        "model=search.export_model()\r\n",
        "model.summary()"
      ],
      "execution_count": null,
      "outputs": [
        {
          "output_type": "stream",
          "text": [
            "WARNING:tensorflow:Compiled the loaded model, but the compiled metrics have yet to be built. `model.compile_metrics` will be empty until you train or evaluate the model.\n",
            "Model: \"model\"\n",
            "_________________________________________________________________\n",
            "Layer (type)                 Output Shape              Param #   \n",
            "=================================================================\n",
            "input_1 (InputLayer)         [(None, 10)]              0         \n",
            "_________________________________________________________________\n",
            "multi_category_encoding (Mul (None, 10)                0         \n",
            "_________________________________________________________________\n",
            "normalization (Normalization (None, 10)                21        \n",
            "_________________________________________________________________\n",
            "dense (Dense)                (None, 32)                352       \n",
            "_________________________________________________________________\n",
            "re_lu (ReLU)                 (None, 32)                0         \n",
            "_________________________________________________________________\n",
            "dense_1 (Dense)              (None, 32)                1056      \n",
            "_________________________________________________________________\n",
            "re_lu_1 (ReLU)               (None, 32)                0         \n",
            "_________________________________________________________________\n",
            "regression_head_1 (Dense)    (None, 1)                 33        \n",
            "=================================================================\n",
            "Total params: 1,462\n",
            "Trainable params: 1,441\n",
            "Non-trainable params: 21\n",
            "_________________________________________________________________\n"
          ],
          "name": "stdout"
        }
      ]
    }
  ]
}