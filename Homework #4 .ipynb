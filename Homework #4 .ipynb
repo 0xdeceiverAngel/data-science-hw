{
 "cells": [
  {
   "cell_type": "code",
   "execution_count": 8,
   "metadata": {},
   "outputs": [],
   "source": [
    "import numpy as np  \n",
    "from sklearn.linear_model import LinearRegression\n",
    "from sklearn.linear_model import Ridge\n",
    "from sklearn.datasets import load_diabetes\n",
    "from sklearn.metrics import mean_squared_error\n",
    "from sklearn.model_selection import train_test_split\n",
    "from sklearn.model_selection import KFold\n",
    "import matplotlib.pyplot as plt\n",
    "# from mpl_toolkits.mplot3d import Axes3D\n",
    "# plt.style.use('seaborn-notebook')"
   ]
  },
  {
   "cell_type": "code",
   "execution_count": 9,
   "metadata": {
    "tags": []
   },
   "outputs": [
    {
     "output_type": "stream",
     "name": "stdout",
     "text": "LinearRegression\nIntercept 152.76430691633442\nCoefficients:  [ 3.03499549e-01 -2.37639315e+02  5.10530605e+02  3.27736980e+02\n -8.14131709e+02  4.92814588e+02  1.02848452e+02  1.84606489e+02\n  7.43519617e+02  7.60951722e+01]\n"
    }
   ],
   "source": [
    "# Q1.\n",
    "data_x,data_y=load_diabetes(return_X_y=True,as_frame=False)\n",
    "# print(len(data_x))\n",
    "# print(len(data_y))\n",
    "# print(data_x)\n",
    "# print(data_y)\n",
    "train_data_x=data_x[:-20]\n",
    "test_data_x=data_x[-20:]\n",
    "\n",
    "train_data_y=data_y[:-20]\n",
    "test_data_y=data_y[-20:]\n",
    "\n",
    "reg=LinearRegression().fit(train_data_x,train_data_y)\n",
    "# print(test_data_y)\n",
    "\n",
    "req_prdi=reg.predict(test_data_x)\n",
    "print('LinearRegression')\n",
    "print('Intercept',reg.intercept_)\n",
    "print('Coefficients: ', reg.coef_)\n",
    "# print(req_prdi)\n",
    "# f=lambda lst1,lst2,ln: [lst1[i]-lst2[i]  for i in range(ln)]\n",
    "# f(req_prdi,test_data_y,20)\n"
   ]
  },
  {
   "cell_type": "code",
   "execution_count": 10,
   "metadata": {
    "tags": []
   },
   "outputs": [
    {
     "output_type": "stream",
     "name": "stdout",
     "text": "Ridge\nIntercept 152.78688151947915\nCoefficients:  [  11.1136556  -204.19946801  480.69629861  303.83348865  -88.06728559\n  -66.87260956 -193.14729968  119.53475526  430.10894133   95.56293006]\n"
    }
   ],
   "source": [
    "# Q2\n",
    "clf = Ridge(alpha=0.1)\n",
    "clf_fit=clf.fit(train_data_x,train_data_y)\n",
    "clf_res=clf_fit.predict(test_data_x)\n",
    "clf_fit.get_params()\n",
    "print('Ridge')\n",
    "print('Intercept',clf_fit.intercept_)\n",
    "print('Coefficients: ', clf_fit.coef_)\n",
    "# print(clf_res)"
   ]
  },
  {
   "cell_type": "code",
   "execution_count": 11,
   "metadata": {
    "tags": []
   },
   "outputs": [],
   "source": [
    "# print(mean_squared_error(test_data_y,req_prdi))\n",
    "# print(mean_squared_error(test_data_y,clf_res))\n"
   ]
  },
  {
   "cell_type": "code",
   "execution_count": 12,
   "metadata": {
    "tags": []
   },
   "outputs": [
    {
     "output_type": "stream",
     "name": "stdout",
     "text": "2980.8277149716123\n"
    }
   ],
   "source": [
    "#  evaluate LinearRegression model by cross-validation\n",
    "kf=KFold(n_splits=10,shuffle=True)\n",
    "MSE=0\n",
    "for train_index,test_index in kf.split(data_x):\n",
    "    x_train,x_test=data_x[train_index],data_x[test_index]\n",
    "    y_train,y_test=data_y[train_index],data_y[test_index]\n",
    "    reg=LinearRegression().fit(x_train,y_train)\n",
    "    y_pred=reg.predict(x_test)\n",
    "    MSE+=mean_squared_error(y_test,y_pred)\n",
    "print(MSE/10)\n"
   ]
  },
  {
   "cell_type": "code",
   "execution_count": 13,
   "metadata": {
    "tags": []
   },
   "outputs": [
    {
     "output_type": "stream",
     "name": "stdout",
     "text": "3371.2239847135183\n"
    }
   ],
   "source": [
    "#  evaluate Ridge model by cross-validation\n",
    "kf=KFold(n_splits=10,shuffle=True)\n",
    "MSE=0\n",
    "for train_index,test_index in kf.split(data_x):\n",
    "    x_train,x_test=data_x[train_index],data_x[test_index]\n",
    "    y_train,y_test=data_y[train_index],data_y[test_index]\n",
    "    clf = Ridge(alpha=1.0)\n",
    "    clf_fit=clf.fit(x_train,y_train)\n",
    "    y_pred=clf_fit.predict(x_test)\n",
    "    MSE+=mean_squared_error(y_test,y_pred)\n",
    "print(MSE/10)"
   ]
  },
  {
   "cell_type": "code",
   "execution_count": 14,
   "metadata": {
    "tags": []
   },
   "outputs": [
    {
     "output_type": "stream",
     "name": "stdout",
     "text": "by the MSE above ,the LinearRegression model is better\n"
    }
   ],
   "source": [
    "print('by the MSE above ,the LinearRegression model is better')"
   ]
  }
 ],
 "metadata": {
  "language_info": {
   "codemirror_mode": {
    "name": "ipython",
    "version": 3
   },
   "file_extension": ".py",
   "mimetype": "text/x-python",
   "name": "python",
   "nbconvert_exporter": "python",
   "pygments_lexer": "ipython3",
   "version": "3.8.3-final"
  },
  "orig_nbformat": 2,
  "kernelspec": {
   "name": "python3",
   "display_name": "Python 3"
  }
 },
 "nbformat": 4,
 "nbformat_minor": 2
}