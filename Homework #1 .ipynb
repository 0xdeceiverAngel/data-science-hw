{
 "cells": [
  {
   "cell_type": "code",
   "execution_count": 4,
   "metadata": {},
   "outputs": [],
   "source": [
    "import pandas as pd\n",
    "import numpy as np"
   ]
  },
  {
   "cell_type": "code",
   "execution_count": 5,
   "metadata": {
    "scrolled": true
   },
   "outputs": [
    {
     "name": "stdout",
     "output_type": "stream",
     "text": [
      "所有台中測站\n"
     ]
    },
    {
     "data": {
      "text/html": [
       "<div>\n",
       "<style scoped>\n",
       "    .dataframe tbody tr th:only-of-type {\n",
       "        vertical-align: middle;\n",
       "    }\n",
       "\n",
       "    .dataframe tbody tr th {\n",
       "        vertical-align: top;\n",
       "    }\n",
       "\n",
       "    .dataframe thead th {\n",
       "        text-align: right;\n",
       "    }\n",
       "</style>\n",
       "<table border=\"1\" class=\"dataframe\">\n",
       "  <thead>\n",
       "    <tr style=\"text-align: right;\">\n",
       "      <th></th>\n",
       "      <th>device_id</th>\n",
       "      <th>SiteName</th>\n",
       "      <th>PM25</th>\n",
       "      <th>timestamp</th>\n",
       "    </tr>\n",
       "  </thead>\n",
       "  <tbody>\n",
       "    <tr>\n",
       "      <th>0</th>\n",
       "      <td>08BEAC09FF5C</td>\n",
       "      <td>臺中市立長億高中(2019)</td>\n",
       "      <td>15</td>\n",
       "      <td>2020-09-20 00:00:00</td>\n",
       "    </tr>\n",
       "    <tr>\n",
       "      <th>12</th>\n",
       "      <td>08BEAC0A04CC</td>\n",
       "      <td>臺中市立逢甲國小(2019)</td>\n",
       "      <td>14</td>\n",
       "      <td>2020-09-20 00:00:02</td>\n",
       "    </tr>\n",
       "    <tr>\n",
       "      <th>18</th>\n",
       "      <td>08BEAC0A0096</td>\n",
       "      <td>臺中市立成功國小(2019)</td>\n",
       "      <td>18</td>\n",
       "      <td>2020-09-20 00:00:03</td>\n",
       "    </tr>\n",
       "    <tr>\n",
       "      <th>32</th>\n",
       "      <td>08BEAC0A0162</td>\n",
       "      <td>臺中市立鹿峰國小(2019)</td>\n",
       "      <td>13</td>\n",
       "      <td>2020-09-20 00:00:05</td>\n",
       "    </tr>\n",
       "    <tr>\n",
       "      <th>38</th>\n",
       "      <td>08BEAC09FF88</td>\n",
       "      <td>臺中市立臺中啟聰學校(2019)</td>\n",
       "      <td>23</td>\n",
       "      <td>2020-09-20 00:00:06</td>\n",
       "    </tr>\n",
       "    <tr>\n",
       "      <th>...</th>\n",
       "      <td>...</td>\n",
       "      <td>...</td>\n",
       "      <td>...</td>\n",
       "      <td>...</td>\n",
       "    </tr>\n",
       "    <tr>\n",
       "      <th>366229</th>\n",
       "      <td>08BEAC0A005E</td>\n",
       "      <td>臺中市立梧南國小(2019)</td>\n",
       "      <td>9</td>\n",
       "      <td>2020-09-20 23:59:56</td>\n",
       "    </tr>\n",
       "    <tr>\n",
       "      <th>366244</th>\n",
       "      <td>08BEAC0A0058</td>\n",
       "      <td>臺中市立育英國中(2019)</td>\n",
       "      <td>8</td>\n",
       "      <td>2020-09-20 23:59:58</td>\n",
       "    </tr>\n",
       "    <tr>\n",
       "      <th>366251</th>\n",
       "      <td>08BEAC0A01D2</td>\n",
       "      <td>臺中市立大楊國小(2019)</td>\n",
       "      <td>14</td>\n",
       "      <td>2020-09-20 23:59:59</td>\n",
       "    </tr>\n",
       "    <tr>\n",
       "      <th>366261</th>\n",
       "      <td>08BEAC09FFDA</td>\n",
       "      <td>臺中市立崇德國中(2019)</td>\n",
       "      <td>5</td>\n",
       "      <td>2020-09-21 00:00:00</td>\n",
       "    </tr>\n",
       "    <tr>\n",
       "      <th>366262</th>\n",
       "      <td>08BEAC0A007A</td>\n",
       "      <td>臺中市立省三國小(2019)</td>\n",
       "      <td>7</td>\n",
       "      <td>2020-09-21 00:00:00</td>\n",
       "    </tr>\n",
       "  </tbody>\n",
       "</table>\n",
       "<p>61049 rows × 4 columns</p>\n",
       "</div>"
      ],
      "text/plain": [
       "           device_id          SiteName  PM25            timestamp\n",
       "0       08BEAC09FF5C    臺中市立長億高中(2019)    15  2020-09-20 00:00:00\n",
       "12      08BEAC0A04CC    臺中市立逢甲國小(2019)    14  2020-09-20 00:00:02\n",
       "18      08BEAC0A0096    臺中市立成功國小(2019)    18  2020-09-20 00:00:03\n",
       "32      08BEAC0A0162    臺中市立鹿峰國小(2019)    13  2020-09-20 00:00:05\n",
       "38      08BEAC09FF88  臺中市立臺中啟聰學校(2019)    23  2020-09-20 00:00:06\n",
       "...              ...               ...   ...                  ...\n",
       "366229  08BEAC0A005E    臺中市立梧南國小(2019)     9  2020-09-20 23:59:56\n",
       "366244  08BEAC0A0058    臺中市立育英國中(2019)     8  2020-09-20 23:59:58\n",
       "366251  08BEAC0A01D2    臺中市立大楊國小(2019)    14  2020-09-20 23:59:59\n",
       "366261  08BEAC09FFDA    臺中市立崇德國中(2019)     5  2020-09-21 00:00:00\n",
       "366262  08BEAC0A007A    臺中市立省三國小(2019)     7  2020-09-21 00:00:00\n",
       "\n",
       "[61049 rows x 4 columns]"
      ]
     },
     "execution_count": 5,
     "metadata": {},
     "output_type": "execute_result"
    }
   ],
   "source": [
    "filename=r\"C:\\Users\\user\\Desktop\\iis_airbox_20200920.csv\"\n",
    "df=pd.read_csv(filename)\n",
    "# df.head()\n",
    "res=df[df['SiteName'].str.contains('臺中市')]\n",
    "# res=res[df['timestamp'].str.contains('2020-09-20')]\n",
    "print('所有台中測站')\n",
    "# type(df['SiteName'].str.contains('臺中市'))\n",
    "res"
   ]
  },
  {
   "cell_type": "code",
   "execution_count": 9,
   "metadata": {},
   "outputs": [
    {
     "name": "stdout",
     "output_type": "stream",
     "text": [
      "每個測站遺失資料(NaNs)數\n"
     ]
    },
    {
     "data": {
      "text/plain": [
       "SiteName\n",
       "中研院資訊所(2019)         0\n",
       "台東縣縣立三仙國小(2018)      0\n",
       "台東縣縣立三和國小(2018)      0\n",
       "台東縣縣立仁愛國小(2018)      0\n",
       "台東縣縣立信義國小(2018)      0\n",
       "                    ..\n",
       "高雄市市立龍山國小(2018)      0\n",
       "高雄市市立龍肚國中(2018)      0\n",
       "高雄市市立龍華國小(2018)      0\n",
       "高雄市成功特殊教育學校(2018)    0\n",
       "高雄市楠梓特殊學校(2018)      0\n",
       "Name: PM25, Length: 1739, dtype: int64"
      ]
     },
     "execution_count": 9,
     "metadata": {},
     "output_type": "execute_result"
    }
   ],
   "source": [
    "print('每個測站遺失資料(NaNs)數')\n",
    "# df[\"PM25\"]=df[\"PM25\"].apply(str)\n",
    "# res2=df[\"PM25\"].str.contains(\"NaN\")\n",
    "# df[res2]\n",
    "df.groupby('SiteName')['PM25'].size()-df.groupby('SiteName')['PM25'].count()"
   ]
  },
  {
   "cell_type": "code",
   "execution_count": 38,
   "metadata": {},
   "outputs": [
    {
     "name": "stdout",
     "output_type": "stream",
     "text": [
      "每個測站的⽇平均PM 2.5濃度\n"
     ]
    },
    {
     "data": {
      "text/plain": [
       "SiteName\n",
       "中研院資訊所(2019)          6.884615\n",
       "台東縣縣立三仙國小(2018)       1.591346\n",
       "台東縣縣立三和國小(2018)       1.312195\n",
       "台東縣縣立仁愛國小(2018)       1.562189\n",
       "台東縣縣立信義國小(2018)       3.262136\n",
       "                       ...    \n",
       "高雄市市立龍山國小(2018)       8.908213\n",
       "高雄市市立龍肚國中(2018)       6.720588\n",
       "高雄市市立龍華國小(2018)      19.595122\n",
       "高雄市成功特殊教育學校(2018)    18.873786\n",
       "高雄市楠梓特殊學校(2018)      14.066667\n",
       "Name: PM25, Length: 1739, dtype: float64"
      ]
     },
     "execution_count": 38,
     "metadata": {},
     "output_type": "execute_result"
    }
   ],
   "source": [
    "print('每個測站的⽇平均PM 2.5濃度')\n",
    "df[~df['timestamp'].str.contains('2020-09-21')]# 因為dataset 有含到21號的\n",
    "df['PM25'].groupby(df['SiteName']).mean()\n"
   ]
  },
  {
   "cell_type": "code",
   "execution_count": 49,
   "metadata": {},
   "outputs": [
    {
     "data": {
      "text/plain": [
       "device_id           08BEAC09FF5C\n",
       "SiteName          臺中市立長億高中(2019)\n",
       "PM25                          15\n",
       "timestamp    2020-09-20 00:00:00\n",
       "Name: 0, dtype: object"
      ]
     },
     "execution_count": 49,
     "metadata": {},
     "output_type": "execute_result"
    }
   ],
   "source": [
    "# test part\n",
    "df.columns\n",
    "df.index\n",
    "df.loc[0]\n",
    "df.iloc[0]\n",
    "df.dropna()"
   ]
  }
 ],
 "metadata": {
  "kernelspec": {
   "display_name": "Python 3",
   "language": "python",
   "name": "python3"
  },
  "language_info": {
   "codemirror_mode": {
    "name": "ipython",
    "version": 3
   },
   "file_extension": ".py",
   "mimetype": "text/x-python",
   "name": "python",
   "nbconvert_exporter": "python",
   "pygments_lexer": "ipython3",
   "version": "3.8.3"
  }
 },
 "nbformat": 4,
 "nbformat_minor": 4
}
