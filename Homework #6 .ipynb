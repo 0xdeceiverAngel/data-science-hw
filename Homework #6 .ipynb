{
 "cells": [
  {
   "cell_type": "code",
   "execution_count": 5,
   "metadata": {},
   "outputs": [],
   "source": [
    "from sklearn.datasets import load_breast_cancer\n",
    "from sklearn.linear_model import LogisticRegression\n",
    "from sklearn.model_selection import RepeatedStratifiedKFold\n",
    "from sklearn.metrics import mean_squared_error"
   ]
  },
  {
   "cell_type": "code",
   "execution_count": 6,
   "metadata": {},
   "outputs": [],
   "source": [
    "data_x,data_y = load_breast_cancer(return_X_y=True)"
   ]
  },
  {
   "cell_type": "code",
   "execution_count": 17,
   "metadata": {
    "tags": []
   },
   "outputs": [
    {
     "output_type": "stream",
     "name": "stdout",
     "text": "0.05902882205513784\n"
    }
   ],
   "source": [
    "rskf = RepeatedStratifiedKFold(n_splits=10, n_repeats=5)\n",
    "MSE=0\n",
    "for train_index,test_index in rskf.split(data_x,data_y):\n",
    "    x_train,x_test=data_x[train_index],data_x[test_index]\n",
    "    y_train,y_test=data_y[train_index],data_y[test_index]\n",
    "    clf = LogisticRegression(random_state=0).fit(x_train, y_train)\n",
    "    y_pred=clf.predict(x_test)\n",
    "    MSE+=mean_squared_error(y_pred,y_test)\n",
    "print(MSE/50)\n"
   ]
  },
  {
   "cell_type": "code",
   "execution_count": 13,
   "metadata": {
    "tags": []
   },
   "outputs": [
    {
     "output_type": "stream",
     "name": "stdout",
     "text": "[0.92982456 0.96491228 0.96491228 0.89473684 0.94736842 0.96491228\n 0.92982456 0.94736842 0.96491228 0.91071429 0.96491228 0.98245614\n 0.9122807  0.98245614 0.89473684 0.94736842 0.94736842 0.94736842\n 0.92982456 0.94642857 0.92982456 0.94736842 0.94736842 0.96491228\n 0.9122807  0.92982456 0.98245614 0.94736842 0.92982456 0.94642857\n 0.9122807  0.96491228 0.92982456 0.98245614 0.9122807  0.98245614\n 0.98245614 0.9122807  0.94736842 0.89285714 0.92982456 0.9122807\n 0.98245614 0.92982456 0.94736842 0.96491228 0.9122807  0.96491228\n 0.94736842 0.96428571]\n0.9437406015037594\n"
    }
   ],
   "source": [
    "from sklearn.model_selection import cross_val_score\n",
    "# knn = KNeighborsClassifier(n_neighbors=10)\n",
    "clf = LogisticRegression(random_state=0).fit(x_train, y_train)\n",
    "model = LogisticRegression()\n",
    "scores = cross_val_score(model, data_x, data_y, cv=rskf, scoring='accuracy')\n",
    "print (scores)\n",
    "print (scores.mean())"
   ]
  },
  {
   "cell_type": "code",
   "execution_count": null,
   "metadata": {},
   "outputs": [],
   "source": []
  }
 ],
 "metadata": {
  "kernelspec": {
   "display_name": "Python 3",
   "language": "python",
   "name": "python3"
  },
  "language_info": {
   "codemirror_mode": {
    "name": "ipython",
    "version": 3
   },
   "file_extension": ".py",
   "mimetype": "text/x-python",
   "name": "python",
   "nbconvert_exporter": "python",
   "pygments_lexer": "ipython3",
   "version": "3.8.3-final"
  }
 },
 "nbformat": 4,
 "nbformat_minor": 4
}